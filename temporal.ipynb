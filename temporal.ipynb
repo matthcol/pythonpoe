{
 "cells": [
  {
   "cell_type": "markdown",
   "id": "8fb441e1-a10d-407a-ae75-79affd3b2c9f",
   "metadata": {},
   "source": [
    "# Time travel"
   ]
  },
  {
   "cell_type": "code",
   "execution_count": 3,
   "id": "a974dfbf-eb51-4cba-97be-a3329fbf1692",
   "metadata": {},
   "outputs": [],
   "source": [
    "# types compatible with ISO 8061\n",
    "from datetime import datetime, date, time, timedelta\n",
    "import pytz"
   ]
  },
  {
   "cell_type": "code",
   "execution_count": 7,
   "id": "1216cb94-26c4-412e-85e4-ef49cdecfe72",
   "metadata": {},
   "outputs": [
    {
     "name": "stdout",
     "output_type": "stream",
     "text": [
      "2024-05-28 16:49:05.014256\n"
     ]
    },
    {
     "data": {
      "text/plain": [
       "datetime.datetime(2024, 5, 28, 16, 49, 5, 14256)"
      ]
     },
     "execution_count": 7,
     "metadata": {},
     "output_type": "execute_result"
    }
   ],
   "source": [
    "dt = datetime.now()\n",
    "print(dt)\n",
    "dt"
   ]
  },
  {
   "cell_type": "code",
   "execution_count": 8,
   "id": "068fe4e2-c2c4-40e0-b406-bd684d80bb7e",
   "metadata": {},
   "outputs": [
    {
     "name": "stdout",
     "output_type": "stream",
     "text": [
      "2024-05-28\n"
     ]
    },
    {
     "data": {
      "text/plain": [
       "datetime.date(2024, 5, 28)"
      ]
     },
     "execution_count": 8,
     "metadata": {},
     "output_type": "execute_result"
    }
   ],
   "source": [
    "d = date.today()\n",
    "print(d)\n",
    "d"
   ]
  },
  {
   "cell_type": "code",
   "execution_count": 11,
   "id": "6961896d-1282-4221-a25c-919ac70aa613",
   "metadata": {},
   "outputs": [
    {
     "name": "stdout",
     "output_type": "stream",
     "text": [
      "16:49:05.014256\n"
     ]
    },
    {
     "data": {
      "text/plain": [
       "datetime.time(16, 49, 5, 14256)"
      ]
     },
     "execution_count": 11,
     "metadata": {},
     "output_type": "execute_result"
    }
   ],
   "source": [
    "t = dt.time()\n",
    "print(t)\n",
    "t"
   ]
  },
  {
   "cell_type": "code",
   "execution_count": 14,
   "id": "f29a1e55-80eb-41b3-85ef-715081262268",
   "metadata": {},
   "outputs": [
    {
     "name": "stdout",
     "output_type": "stream",
     "text": [
      "2024-05-28 16:59:27.915071+02:00\n",
      "2024-05-28 15:59:27.917104+01:00\n",
      "2024-05-29 00:59:27.917104+10:00\n",
      "2024-05-28 07:59:27.928078-07:00\n"
     ]
    }
   ],
   "source": [
    "for tz_str in 'Europe/Paris', 'Europe/London', 'Australia/Sydney', 'America/Los_Angeles':\n",
    "    tz = pytz.timezone(tz_str)\n",
    "    dt = datetime.now(tz=tz)\n",
    "    print(dt)"
   ]
  }
 ],
 "metadata": {
  "kernelspec": {
   "display_name": "k312",
   "language": "python",
   "name": "k312"
  },
  "language_info": {
   "codemirror_mode": {
    "name": "ipython",
    "version": 3
   },
   "file_extension": ".py",
   "mimetype": "text/x-python",
   "name": "python",
   "nbconvert_exporter": "python",
   "pygments_lexer": "ipython3",
   "version": "3.12.1"
  }
 },
 "nbformat": 4,
 "nbformat_minor": 5
}
