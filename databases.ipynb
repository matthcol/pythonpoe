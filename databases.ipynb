{
 "cells": [
  {
   "cell_type": "markdown",
   "id": "895fbafe-a5bf-4617-bad3-3a5aeb56c94b",
   "metadata": {},
   "source": [
    "# Databases"
   ]
  },
  {
   "cell_type": "code",
   "execution_count": 1,
   "id": "b4b8c431-1fce-4f44-b80d-55b0debeef1d",
   "metadata": {},
   "outputs": [],
   "source": [
    "# import psycopg2 as pg\n",
    "# import mariadb\n",
    "import mysql.connector as mariadb"
   ]
  },
  {
   "cell_type": "markdown",
   "id": "63e5cbd1-1793-4002-bbda-1e552b07e368",
   "metadata": {},
   "source": [
    "## MariaDB"
   ]
  },
  {
   "cell_type": "code",
   "execution_count": 2,
   "id": "e466382c-71aa-4e7c-a73c-6afb5ecdb6bb",
   "metadata": {},
   "outputs": [],
   "source": [
    "user = 'movie'\n",
    "password = 'password'\n",
    "host = 'localhost'\n",
    "dbname = 'dbmovie'\n",
    "port = 3307"
   ]
  },
  {
   "cell_type": "code",
   "execution_count": 86,
   "id": "6291eda5-62b3-4a67-949b-ae1b5f9fa9dd",
   "metadata": {
    "scrolled": true
   },
   "outputs": [
    {
     "data": {
      "text/plain": [
       "<mysql.connector.connection_cext.CMySQLConnection at 0x1a71dc08aa0>"
      ]
     },
     "execution_count": 86,
     "metadata": {},
     "output_type": "execute_result"
    }
   ],
   "source": [
    "conn = mariadb.connect(host=host, port=port, db=dbname, user=user, password=password)\n",
    "conn"
   ]
  },
  {
   "cell_type": "code",
   "execution_count": 25,
   "id": "71a76142-6b4e-4465-88c1-f9847982ffd1",
   "metadata": {},
   "outputs": [],
   "source": [
    "sql_movies_10first = \"SELECT * FROM movie LIMIT 10\""
   ]
  },
  {
   "cell_type": "code",
   "execution_count": 26,
   "id": "3cea6431-eb80-4306-adcf-b88c712cee35",
   "metadata": {},
   "outputs": [
    {
     "data": {
      "text/plain": [
       "<mysql.connector.cursor_cext.CMySQLCursor at 0x1a71d3bd7f0>"
      ]
     },
     "execution_count": 26,
     "metadata": {},
     "output_type": "execute_result"
    }
   ],
   "source": [
    "cur = conn.cursor()\n",
    "cur"
   ]
  },
  {
   "cell_type": "code",
   "execution_count": 27,
   "id": "40b22bb8-8309-4d19-8f83-2c6c7e332dca",
   "metadata": {},
   "outputs": [],
   "source": [
    "cur.execute(sql_movies_10first)"
   ]
  },
  {
   "cell_type": "code",
   "execution_count": 28,
   "id": "65f3e086-0c3e-4c6d-b31c-cd507dca948b",
   "metadata": {},
   "outputs": [
    {
     "name": "stdout",
     "output_type": "stream",
     "text": [
      "(5257, 'Excuse Me', 1915, 50, None, None, None, None, 767303)\n",
      "(6366, 'Anton the Terrible', 1916, 50, None, None, None, None, 210352)\n",
      "(8351, 'The Mysterious Mrs. Musslewhite', 1917, 50, None, None, None, None, 916665)\n",
      "(8384, 'On the Level', 1917, 50, None, None, None, None, 577654)\n",
      "(8642, 'The Sunset Trail', 1917, 50, None, None, None, None, 577654)\n",
      "(8676, 'The Tides of Barnegat', 1917, 50, None, None, None, None, 624714)\n",
      "(8981, 'The Cruise of the Make-Believes', 1918, 50, None, None, None, None, 577654)\n",
      "(9124, 'Good Night, Paul', 1918, 50, None, None, None, None, 250445)\n",
      "(9274, \"A Lady's Name\", 1918, 50, None, None, None, None, 250445)\n",
      "(9403, \"Mrs. Leffingwell's Boots\", 1918, 50, None, None, None, None, 250445)\n"
     ]
    }
   ],
   "source": [
    "for row in cur:\n",
    "    print(row)"
   ]
  },
  {
   "cell_type": "code",
   "execution_count": 29,
   "id": "4bf68b30-8456-4a2f-b6cb-4849b17262cf",
   "metadata": {},
   "outputs": [
    {
     "data": {
      "text/plain": [
       "True"
      ]
     },
     "execution_count": 29,
     "metadata": {},
     "output_type": "execute_result"
    }
   ],
   "source": [
    "cur.close()"
   ]
  },
  {
   "cell_type": "code",
   "execution_count": 30,
   "id": "4c24bacd-2640-4a2b-b01f-67f275c3cfba",
   "metadata": {},
   "outputs": [
    {
     "name": "stdout",
     "output_type": "stream",
     "text": [
      "(5257, 'Excuse Me', 1915, 50, None, None, None, None, 767303)\n",
      "(6366, 'Anton the Terrible', 1916, 50, None, None, None, None, 210352)\n",
      "(8351, 'The Mysterious Mrs. Musslewhite', 1917, 50, None, None, None, None, 916665)\n",
      "(8384, 'On the Level', 1917, 50, None, None, None, None, 577654)\n",
      "(8642, 'The Sunset Trail', 1917, 50, None, None, None, None, 577654)\n",
      "(8676, 'The Tides of Barnegat', 1917, 50, None, None, None, None, 624714)\n",
      "(8981, 'The Cruise of the Make-Believes', 1918, 50, None, None, None, None, 577654)\n",
      "(9124, 'Good Night, Paul', 1918, 50, None, None, None, None, 250445)\n",
      "(9274, \"A Lady's Name\", 1918, 50, None, None, None, None, 250445)\n",
      "(9403, \"Mrs. Leffingwell's Boots\", 1918, 50, None, None, None, None, 250445)\n"
     ]
    }
   ],
   "source": [
    "with conn.cursor() as cur:\n",
    "    cur.execute(sql_movies_10first)\n",
    "    for row in cur:\n",
    "        print(row)"
   ]
  },
  {
   "cell_type": "code",
   "execution_count": 31,
   "id": "e70dac11-c509-410e-b8f2-c90ba86ab7cc",
   "metadata": {},
   "outputs": [
    {
     "data": {
      "text/plain": [
       "[(5257, 'Excuse Me', 1915, 50, None, None, None, None, 767303),\n",
       " (6366, 'Anton the Terrible', 1916, 50, None, None, None, None, 210352),\n",
       " (8351,\n",
       "  'The Mysterious Mrs. Musslewhite',\n",
       "  1917,\n",
       "  50,\n",
       "  None,\n",
       "  None,\n",
       "  None,\n",
       "  None,\n",
       "  916665),\n",
       " (8384, 'On the Level', 1917, 50, None, None, None, None, 577654),\n",
       " (8642, 'The Sunset Trail', 1917, 50, None, None, None, None, 577654),\n",
       " (8676, 'The Tides of Barnegat', 1917, 50, None, None, None, None, 624714),\n",
       " (8981,\n",
       "  'The Cruise of the Make-Believes',\n",
       "  1918,\n",
       "  50,\n",
       "  None,\n",
       "  None,\n",
       "  None,\n",
       "  None,\n",
       "  577654),\n",
       " (9124, 'Good Night, Paul', 1918, 50, None, None, None, None, 250445),\n",
       " (9274, \"A Lady's Name\", 1918, 50, None, None, None, None, 250445),\n",
       " (9403, \"Mrs. Leffingwell's Boots\", 1918, 50, None, None, None, None, 250445)]"
      ]
     },
     "execution_count": 31,
     "metadata": {},
     "output_type": "execute_result"
    }
   ],
   "source": [
    "with conn.cursor() as cur:\n",
    "    cur.execute(sql_movies_10first)\n",
    "    movies = list(cur)\n",
    "movies"
   ]
  },
  {
   "cell_type": "code",
   "execution_count": 32,
   "id": "dcc69436-3f90-48a9-a605-57b2052021e1",
   "metadata": {},
   "outputs": [],
   "source": [
    "sql_movies_by_year = \"SELECT * FROM movie WHERE year = 2000\""
   ]
  },
  {
   "cell_type": "code",
   "execution_count": 33,
   "id": "9196e31b-88bc-450f-a5c0-c43e5ec78dd9",
   "metadata": {},
   "outputs": [
    {
     "data": {
      "text/plain": [
       "[(120755, 'Mission: Impossible II', 2000, 123, None, None, None, None, 247),\n",
       " (134630, 'Duets', 2000, 112, None, None, None, None, 1591),\n",
       " (134847, 'Pitch Black', 2000, 109, None, None, None, None, 878638),\n",
       " (138946, 'The Yards', 2000, 115, None, None, None, None, 336695),\n",
       " (146984,\n",
       "  'The Legend of Bagger Vance',\n",
       "  2000,\n",
       "  126,\n",
       "  None,\n",
       "  None,\n",
       "  None,\n",
       "  None,\n",
       "  602),\n",
       " (161081, 'What Lies Beneath', 2000, 130, None, None, None, None, 709),\n",
       " (162222, 'Cast Away', 2000, 143, None, None, None, None, 709),\n",
       " (163978, 'The Beach', 2000, 119, None, None, None, None, 965),\n",
       " (172495, 'Gladiator', 2000, 155, None, None, None, None, 631),\n",
       " (180073, 'Quills', 2000, 124, None, None, None, None, 442241),\n",
       " (181536, 'Finding Forrester', 2000, 136, None, None, None, None, 1814),\n",
       " (181984, 'Boiler Room', 2000, 120, None, None, None, None, 950226),\n",
       " (183523, 'Mission to Mars', 2000, 114, None, None, None, None, 361),\n",
       " (185431, 'Little Nicky', 2000, 90, None, None, None, None, 109359),\n",
       " (186566, 'Space Cowboys', 2000, 130, None, None, None, None, 142),\n",
       " (190590,\n",
       "  'O Brother, Where Art Thou?',\n",
       "  2000,\n",
       "  107,\n",
       "  None,\n",
       "  None,\n",
       "  None,\n",
       "  None,\n",
       "  1054),\n",
       " (208988, 'Get Carter', 2000, 102, None, None, None, None, 443181),\n",
       " (209144, 'Memento', 2000, 113, None, None, None, None, 634240),\n",
       " (216216, 'The 6th Day', 2000, 123, None, None, None, None, 6854),\n",
       " (219699, 'The Gift', 2000, 112, None, None, None, None, 600),\n",
       " (269743, 'Barking Dogs Never Bite', 2000, 110, None, None, None, None, 94435)]"
      ]
     },
     "execution_count": 33,
     "metadata": {},
     "output_type": "execute_result"
    }
   ],
   "source": [
    "with conn.cursor() as cur:\n",
    "    cur.execute(sql_movies_by_year)\n",
    "    movies = list(cur)\n",
    "movies"
   ]
  },
  {
   "cell_type": "markdown",
   "id": "b73fd925-233f-4800-a346-2208a8d20e10",
   "metadata": {},
   "source": [
    "### Unsecured queries with args\n",
    "WARNING: SQL queries made with string concat or f-string can be attacked with SQL injection"
   ]
  },
  {
   "cell_type": "code",
   "execution_count": 70,
   "id": "d29569ab-e1f0-4026-b642-ba5c63847642",
   "metadata": {},
   "outputs": [],
   "source": [
    "sql_movies_by_year = \"SELECT * FROM movie WHERE year = \""
   ]
  },
  {
   "cell_type": "code",
   "execution_count": 89,
   "id": "920e521a-e9d8-40ec-9fbd-b498d6189c2a",
   "metadata": {},
   "outputs": [],
   "source": [
    "# year = 1984\n",
    "year = \"1984 OR 1\"\n",
    "# year = \"1984; drop table if exists have_genre\"\n",
    "# year = \"\"\"1984;\n",
    "# SET FOREIGN_KEY_CHECKS=0;\n",
    "# select concat('begin not atomic ', l,';end') \n",
    "# FROM (SELECT GROUP_CONCAT('DROP TABLE IF EXISTS `', TABLE_NAME, '`' SEPARATOR '; ') as l \n",
    "# FROM information_schema.TABLES WHERE TABLE_SCHEMA = database()) as t INTO @query;\n",
    "# EXECUTE IMMEDIATE @query;\n",
    "# \"\"\""
   ]
  },
  {
   "cell_type": "code",
   "execution_count": 90,
   "id": "dada6303-efb4-477c-b0b8-4ed8c07e4582",
   "metadata": {},
   "outputs": [
    {
     "data": {
      "text/plain": [
       "'SELECT * FROM movie WHERE year = 1984 OR 1'"
      ]
     },
     "execution_count": 90,
     "metadata": {},
     "output_type": "execute_result"
    }
   ],
   "source": [
    "sql = sql_movies_by_year + str(year)\n",
    "sql"
   ]
  },
  {
   "cell_type": "code",
   "execution_count": 78,
   "id": "f0720eeb-f35a-40b1-ab4c-94d55aa97c75",
   "metadata": {},
   "outputs": [
    {
     "name": "stdout",
     "output_type": "stream",
     "text": [
      "Result count: 16\n"
     ]
    },
    {
     "data": {
      "text/plain": [
       "[(84750,\n",
       "  'Sword of the Valiant: The Legend of Sir Gawain and the Green Knight',\n",
       "  1984,\n",
       "  102,\n",
       "  None,\n",
       "  None,\n",
       "  None,\n",
       "  None,\n",
       "  917358),\n",
       " (86927, 'Bachelor Party', 1984, 105, None, None, None, None, 411477)]"
      ]
     },
     "execution_count": 78,
     "metadata": {},
     "output_type": "execute_result"
    }
   ],
   "source": [
    "with conn.cursor() as cur:\n",
    "    cur.execute(sql)\n",
    "    movies = list(cur)\n",
    "print(\"Result count:\", len(movies))\n",
    "movies[:2]"
   ]
  },
  {
   "cell_type": "code",
   "execution_count": 55,
   "id": "b2cb6d88-e135-49e0-9e35-a1068c93b3d7",
   "metadata": {},
   "outputs": [],
   "source": [
    "sql_movies_by_title = \"SELECT * FROM movie WHERE title = '{0}'\""
   ]
  },
  {
   "cell_type": "code",
   "execution_count": 91,
   "id": "df556bab-a015-4e48-8d8e-50e9fb9ce6ac",
   "metadata": {},
   "outputs": [],
   "source": [
    "# title = \"Gladiator\"\n",
    "title = \"' OR 1 OR title='\"\n",
    "# title = \"\"\"GLADIATOR';\n",
    "# SET FOREIGN_KEY_CHECKS=0;\n",
    "# select concat('begin not atomic ', l,';end') \n",
    "# FROM (SELECT GROUP_CONCAT('DROP TABLE IF EXISTS `', TABLE_NAME, '`' SEPARATOR '; ') as l \n",
    "# FROM information_schema.TABLES WHERE TABLE_SCHEMA = database()) as t INTO @query;\n",
    "# EXECUTE IMMEDIATE @query;\n",
    "# SELECT '\"\"\""
   ]
  },
  {
   "cell_type": "code",
   "execution_count": 92,
   "id": "2c2b9ca8-8aed-4a56-bbc2-79e86b4e589e",
   "metadata": {},
   "outputs": [
    {
     "data": {
      "text/plain": [
       "\"SELECT * FROM movie WHERE title = '' OR 1 OR title=''\""
      ]
     },
     "execution_count": 92,
     "metadata": {},
     "output_type": "execute_result"
    }
   ],
   "source": [
    "sql = sql_movies_by_title.format(title)\n",
    "sql"
   ]
  },
  {
   "cell_type": "code",
   "execution_count": 87,
   "id": "bd1b84c6-378d-42e6-a4e4-034a9de747e9",
   "metadata": {},
   "outputs": [
    {
     "name": "stdout",
     "output_type": "stream",
     "text": [
      "Result count: 1\n"
     ]
    },
    {
     "data": {
      "text/plain": [
       "[(172495, 'Gladiator', 2000, 155, None, None, None, None, 631)]"
      ]
     },
     "execution_count": 87,
     "metadata": {},
     "output_type": "execute_result"
    }
   ],
   "source": [
    "with conn.cursor() as cur:\n",
    "    cur.execute(sql)\n",
    "    movies = list(cur)\n",
    "print(\"Result count:\", len(movies))\n",
    "movies[:2]"
   ]
  },
  {
   "cell_type": "code",
   "execution_count": 84,
   "id": "18745925-7488-4aba-80e6-a1476be22104",
   "metadata": {},
   "outputs": [],
   "source": [
    "conn.close()"
   ]
  },
  {
   "cell_type": "markdown",
   "id": "9c4c09fc-6d17-4798-9387-60b52a088bf5",
   "metadata": {},
   "source": [
    "## PostgreSQL"
   ]
  },
  {
   "cell_type": "code",
   "execution_count": 9,
   "id": "9ec0589a-096d-495f-9060-d6f35e7ffed5",
   "metadata": {},
   "outputs": [],
   "source": [
    "user = 'movie'\n",
    "password = 'password'\n",
    "host = 'localhost'\n",
    "dbname = 'dbmovie'\n",
    "port = 5432"
   ]
  }
 ],
 "metadata": {
  "kernelspec": {
   "display_name": "k312",
   "language": "python",
   "name": "k312"
  },
  "language_info": {
   "codemirror_mode": {
    "name": "ipython",
    "version": 3
   },
   "file_extension": ".py",
   "mimetype": "text/x-python",
   "name": "python",
   "nbconvert_exporter": "python",
   "pygments_lexer": "ipython3",
   "version": "3.12.1"
  }
 },
 "nbformat": 4,
 "nbformat_minor": 5
}
