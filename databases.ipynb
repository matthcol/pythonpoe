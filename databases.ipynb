{
 "cells": [
  {
   "cell_type": "markdown",
   "id": "895fbafe-a5bf-4617-bad3-3a5aeb56c94b",
   "metadata": {},
   "source": [
    "# Databases"
   ]
  },
  {
   "cell_type": "code",
   "execution_count": 10,
   "id": "b4b8c431-1fce-4f44-b80d-55b0debeef1d",
   "metadata": {},
   "outputs": [],
   "source": [
    "import psycopg2 as pg\n",
    "import mariadb"
   ]
  },
  {
   "cell_type": "markdown",
   "id": "63e5cbd1-1793-4002-bbda-1e552b07e368",
   "metadata": {},
   "source": [
    "## MariaDB"
   ]
  },
  {
   "cell_type": "code",
   "execution_count": 6,
   "id": "e466382c-71aa-4e7c-a73c-6afb5ecdb6bb",
   "metadata": {},
   "outputs": [],
   "source": [
    "user = 'movie'\n",
    "password = 'password'\n",
    "host = 'localhost'\n",
    "dbname = 'dbmovie'\n",
    "port = 3307"
   ]
  },
  {
   "cell_type": "markdown",
   "id": "9c4c09fc-6d17-4798-9387-60b52a088bf5",
   "metadata": {},
   "source": [
    "## PostgreSQL"
   ]
  },
  {
   "cell_type": "code",
   "execution_count": 9,
   "id": "9ec0589a-096d-495f-9060-d6f35e7ffed5",
   "metadata": {},
   "outputs": [],
   "source": [
    "user = 'movie'\n",
    "password = 'password'\n",
    "host = 'localhost'\n",
    "dbname = 'dbmovie'\n",
    "port = 5432"
   ]
  }
 ],
 "metadata": {
  "kernelspec": {
   "display_name": "k312",
   "language": "python",
   "name": "k312"
  },
  "language_info": {
   "codemirror_mode": {
    "name": "ipython",
    "version": 3
   },
   "file_extension": ".py",
   "mimetype": "text/x-python",
   "name": "python",
   "nbconvert_exporter": "python",
   "pygments_lexer": "ipython3",
   "version": "3.12.1"
  }
 },
 "nbformat": 4,
 "nbformat_minor": 5
}
