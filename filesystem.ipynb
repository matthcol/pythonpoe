{
 "cells": [
  {
   "cell_type": "markdown",
   "id": "628d4f2b-fda7-4e60-8ef7-46e0bab3b3a1",
   "metadata": {},
   "source": [
    "# Filesystem"
   ]
  },
  {
   "cell_type": "code",
   "execution_count": 101,
   "id": "caab3ccd-cfbd-41cc-825b-51c946961a38",
   "metadata": {},
   "outputs": [],
   "source": [
    "import csv\n",
    "import pandas as pd\n",
    "import requests\n",
    "import py7zr\n",
    "from pathlib import Path\n",
    "from datetime import datetime, date, time, timedelta\n",
    "import shutil\n",
    "import exif\n",
    "import exifread"
   ]
  },
  {
   "cell_type": "markdown",
   "id": "f202cb2d-d468-4056-914c-05d349a845a8",
   "metadata": {},
   "source": [
    "## Read lines with open"
   ]
  },
  {
   "cell_type": "code",
   "execution_count": 4,
   "id": "13b21ccf-ed26-4515-ad5c-048a3ad65814",
   "metadata": {},
   "outputs": [
    {
     "data": {
      "text/plain": [
       "<_io.TextIOWrapper name='data/cities.csv' mode='r' encoding='UTF-8'>"
      ]
     },
     "execution_count": 4,
     "metadata": {},
     "output_type": "execute_result"
    }
   ],
   "source": [
    "f = open('data/cities.csv', encoding='UTF-8')\n",
    "f"
   ]
  },
  {
   "cell_type": "code",
   "execution_count": 5,
   "id": "ecb40f1d-1fd9-4a66-a62d-f3cd6f99c49b",
   "metadata": {},
   "outputs": [
    {
     "data": {
      "text/plain": [
       "'name,population,cp\\nPau,77000,64000\\nToulouse,477000,31000\\nNîmes,150000,30000\\n'"
      ]
     },
     "execution_count": 5,
     "metadata": {},
     "output_type": "execute_result"
    }
   ],
   "source": [
    "f.read()"
   ]
  },
  {
   "cell_type": "code",
   "execution_count": 6,
   "id": "327cde14-0d57-4800-b3a4-dd3fdd66515e",
   "metadata": {},
   "outputs": [
    {
     "data": {
      "text/plain": [
       "''"
      ]
     },
     "execution_count": 6,
     "metadata": {},
     "output_type": "execute_result"
    }
   ],
   "source": [
    "f.read()"
   ]
  },
  {
   "cell_type": "code",
   "execution_count": 7,
   "id": "48d25eff-c9d3-4514-8eb1-f7cccb1a11e6",
   "metadata": {},
   "outputs": [],
   "source": [
    "f.close()"
   ]
  },
  {
   "cell_type": "code",
   "execution_count": 8,
   "id": "4a234996-eea3-4531-8d0a-97a5363d2778",
   "metadata": {},
   "outputs": [
    {
     "data": {
      "text/plain": [
       "True"
      ]
     },
     "execution_count": 8,
     "metadata": {},
     "output_type": "execute_result"
    }
   ],
   "source": [
    "f.closed"
   ]
  },
  {
   "cell_type": "code",
   "execution_count": 20,
   "id": "de7dc24b-857a-4b42-af84-cdd05575f3f3",
   "metadata": {},
   "outputs": [
    {
     "name": "stdout",
     "output_type": "stream",
     "text": [
      "name,population,cp\n",
      "\n",
      "Pau,77000,64000\n",
      "\n",
      "Toulouse,477000,31000\n",
      "\n",
      "Nîmes,150000,30000\n",
      "\n"
     ]
    }
   ],
   "source": [
    "f = open('data/cities.csv', encoding='UTF-8')\n",
    "for line in f:\n",
    "    print(line)\n",
    "f.close()"
   ]
  },
  {
   "cell_type": "code",
   "execution_count": 12,
   "id": "fe22f681-59e8-4250-9026-b02ec68f9580",
   "metadata": {},
   "outputs": [
    {
     "name": "stdout",
     "output_type": "stream",
     "text": [
      "name;population;cp\n",
      "\n",
      "Pau;77000;64000\n",
      "\n",
      "Toulouse;477000;31000\n",
      "\n",
      "Nîmes;150000;30000\n",
      "\n"
     ]
    }
   ],
   "source": [
    "f = open('data/cities_fr.csv', encoding='CP1252')\n",
    "for line in f:\n",
    "    print(line)\n",
    "f.close()"
   ]
  },
  {
   "cell_type": "code",
   "execution_count": 14,
   "id": "c5ffc000-022f-42e8-8560-47579ad66854",
   "metadata": {},
   "outputs": [
    {
     "name": "stdout",
     "output_type": "stream",
     "text": [
      "CP1252 -> b'N\\xeemes'\n",
      "ISO-8859-1 -> b'N\\xeemes'\n",
      "ISO-8859-15 -> b'N\\xeemes'\n",
      "UTF-8 -> b'N\\xc3\\xaemes'\n"
     ]
    }
   ],
   "source": [
    "city = \"Nîmes\"\n",
    "for encoding in \"CP1252\", \"ISO-8859-1\", \"ISO-8859-15\", \"UTF-8\":\n",
    "    print(encoding, '->', city.encode(encoding))"
   ]
  },
  {
   "cell_type": "code",
   "execution_count": 16,
   "id": "74341a78-608e-4813-a06a-2d8e72ac475b",
   "metadata": {},
   "outputs": [
    {
     "name": "stdout",
     "output_type": "stream",
     "text": [
      "CP1252 -> b'\\x80'\n",
      "Can't encode '€' with encoding 'ISO-8859-1'\n",
      "ISO-8859-15 -> b'\\xa4'\n",
      "UTF-8 -> b'\\xe2\\x82\\xac'\n"
     ]
    }
   ],
   "source": [
    "word = \"€\"\n",
    "for encoding in \"CP1252\", \"ISO-8859-1\", \"ISO-8859-15\", \"UTF-8\":\n",
    "    try:\n",
    "        print(encoding, '->', word.encode(encoding))\n",
    "    except UnicodeEncodeError:\n",
    "        print(f\"Can't encode '{word}' with encoding '{encoding}'\")"
   ]
  },
  {
   "cell_type": "code",
   "execution_count": 17,
   "id": "888d2077-6f67-4581-b254-7e9fb3d8cb94",
   "metadata": {},
   "outputs": [
    {
     "data": {
      "text/plain": [
       "b'\\xe6\\x9d\\xb1\\xe4\\xba\\xac'"
      ]
     },
     "execution_count": 17,
     "metadata": {},
     "output_type": "execute_result"
    }
   ],
   "source": [
    "city = \"東京\"\n",
    "code = city.encode('UTF-8')\n",
    "code"
   ]
  },
  {
   "cell_type": "code",
   "execution_count": 18,
   "id": "4b1323ac-82cc-46c3-853d-660a51ec5f43",
   "metadata": {},
   "outputs": [
    {
     "data": {
      "text/plain": [
       "'東京'"
      ]
     },
     "execution_count": 18,
     "metadata": {},
     "output_type": "execute_result"
    }
   ],
   "source": [
    "code.decode('UTF-8')"
   ]
  },
  {
   "cell_type": "markdown",
   "id": "94913e97-b62b-4f03-9f8c-42e43e2363a1",
   "metadata": {},
   "source": [
    "## Split lines"
   ]
  },
  {
   "cell_type": "code",
   "execution_count": 28,
   "id": "814fe453-7d09-401c-a3f9-4b83d16b4404",
   "metadata": {},
   "outputs": [
    {
     "data": {
      "text/plain": [
       "[['Pau', 77000, '64000'],\n",
       " ['Toulouse', 477000, '31000'],\n",
       " ['Nîmes', 150000, '30000']]"
      ]
     },
     "execution_count": 28,
     "metadata": {},
     "output_type": "execute_result"
    }
   ],
   "source": [
    "f = open('data/cities_fr.csv', encoding='CP1252')\n",
    "sep = \";\"\n",
    "next(f)\n",
    "cities = []\n",
    "for line in f:\n",
    "    data = line.rstrip().split(sep)\n",
    "    data[1] = int(data[1])\n",
    "    cities.append(data)\n",
    "f.close()\n",
    "cities"
   ]
  },
  {
   "cell_type": "markdown",
   "id": "e579d8bd-25ef-4338-9802-a64761ce5dbc",
   "metadata": {},
   "source": [
    "## Read csv with pandas\n",
    "pandas 2D array = DataFrame"
   ]
  },
  {
   "cell_type": "code",
   "execution_count": 36,
   "id": "03021d54-f7af-4d96-9df9-85f23a5075bd",
   "metadata": {
    "collapsed": true,
    "jupyter": {
     "outputs_hidden": true
    }
   },
   "outputs": [
    {
     "data": {
      "text/plain": [
       "\u001b[1;31mSignature:\u001b[0m\n",
       "\u001b[0mpd\u001b[0m\u001b[1;33m.\u001b[0m\u001b[0mread_csv\u001b[0m\u001b[1;33m(\u001b[0m\u001b[1;33m\n",
       "\u001b[0m    \u001b[0mfilepath_or_buffer\u001b[0m\u001b[1;33m:\u001b[0m \u001b[1;34m'FilePath | ReadCsvBuffer[bytes] | ReadCsvBuffer[str]'\u001b[0m\u001b[1;33m,\u001b[0m\u001b[1;33m\n",
       "\u001b[0m    \u001b[1;33m*\u001b[0m\u001b[1;33m,\u001b[0m\u001b[1;33m\n",
       "\u001b[0m    \u001b[0msep\u001b[0m\u001b[1;33m:\u001b[0m \u001b[1;34m'str | None | lib.NoDefault'\u001b[0m \u001b[1;33m=\u001b[0m \u001b[1;33m<\u001b[0m\u001b[0mno_default\u001b[0m\u001b[1;33m>\u001b[0m\u001b[1;33m,\u001b[0m\u001b[1;33m\n",
       "\u001b[0m    \u001b[0mdelimiter\u001b[0m\u001b[1;33m:\u001b[0m \u001b[1;34m'str | None | lib.NoDefault'\u001b[0m \u001b[1;33m=\u001b[0m \u001b[1;32mNone\u001b[0m\u001b[1;33m,\u001b[0m\u001b[1;33m\n",
       "\u001b[0m    \u001b[0mheader\u001b[0m\u001b[1;33m:\u001b[0m \u001b[1;34m\"int | Sequence[int] | None | Literal['infer']\"\u001b[0m \u001b[1;33m=\u001b[0m \u001b[1;34m'infer'\u001b[0m\u001b[1;33m,\u001b[0m\u001b[1;33m\n",
       "\u001b[0m    \u001b[0mnames\u001b[0m\u001b[1;33m:\u001b[0m \u001b[1;34m'Sequence[Hashable] | None | lib.NoDefault'\u001b[0m \u001b[1;33m=\u001b[0m \u001b[1;33m<\u001b[0m\u001b[0mno_default\u001b[0m\u001b[1;33m>\u001b[0m\u001b[1;33m,\u001b[0m\u001b[1;33m\n",
       "\u001b[0m    \u001b[0mindex_col\u001b[0m\u001b[1;33m:\u001b[0m \u001b[1;34m'IndexLabel | Literal[False] | None'\u001b[0m \u001b[1;33m=\u001b[0m \u001b[1;32mNone\u001b[0m\u001b[1;33m,\u001b[0m\u001b[1;33m\n",
       "\u001b[0m    \u001b[0musecols\u001b[0m\u001b[1;33m:\u001b[0m \u001b[1;34m'UsecolsArgType'\u001b[0m \u001b[1;33m=\u001b[0m \u001b[1;32mNone\u001b[0m\u001b[1;33m,\u001b[0m\u001b[1;33m\n",
       "\u001b[0m    \u001b[0mdtype\u001b[0m\u001b[1;33m:\u001b[0m \u001b[1;34m'DtypeArg | None'\u001b[0m \u001b[1;33m=\u001b[0m \u001b[1;32mNone\u001b[0m\u001b[1;33m,\u001b[0m\u001b[1;33m\n",
       "\u001b[0m    \u001b[0mengine\u001b[0m\u001b[1;33m:\u001b[0m \u001b[1;34m'CSVEngine | None'\u001b[0m \u001b[1;33m=\u001b[0m \u001b[1;32mNone\u001b[0m\u001b[1;33m,\u001b[0m\u001b[1;33m\n",
       "\u001b[0m    \u001b[0mconverters\u001b[0m\u001b[1;33m:\u001b[0m \u001b[1;34m'Mapping[Hashable, Callable] | None'\u001b[0m \u001b[1;33m=\u001b[0m \u001b[1;32mNone\u001b[0m\u001b[1;33m,\u001b[0m\u001b[1;33m\n",
       "\u001b[0m    \u001b[0mtrue_values\u001b[0m\u001b[1;33m:\u001b[0m \u001b[1;34m'list | None'\u001b[0m \u001b[1;33m=\u001b[0m \u001b[1;32mNone\u001b[0m\u001b[1;33m,\u001b[0m\u001b[1;33m\n",
       "\u001b[0m    \u001b[0mfalse_values\u001b[0m\u001b[1;33m:\u001b[0m \u001b[1;34m'list | None'\u001b[0m \u001b[1;33m=\u001b[0m \u001b[1;32mNone\u001b[0m\u001b[1;33m,\u001b[0m\u001b[1;33m\n",
       "\u001b[0m    \u001b[0mskipinitialspace\u001b[0m\u001b[1;33m:\u001b[0m \u001b[1;34m'bool'\u001b[0m \u001b[1;33m=\u001b[0m \u001b[1;32mFalse\u001b[0m\u001b[1;33m,\u001b[0m\u001b[1;33m\n",
       "\u001b[0m    \u001b[0mskiprows\u001b[0m\u001b[1;33m:\u001b[0m \u001b[1;34m'list[int] | int | Callable[[Hashable], bool] | None'\u001b[0m \u001b[1;33m=\u001b[0m \u001b[1;32mNone\u001b[0m\u001b[1;33m,\u001b[0m\u001b[1;33m\n",
       "\u001b[0m    \u001b[0mskipfooter\u001b[0m\u001b[1;33m:\u001b[0m \u001b[1;34m'int'\u001b[0m \u001b[1;33m=\u001b[0m \u001b[1;36m0\u001b[0m\u001b[1;33m,\u001b[0m\u001b[1;33m\n",
       "\u001b[0m    \u001b[0mnrows\u001b[0m\u001b[1;33m:\u001b[0m \u001b[1;34m'int | None'\u001b[0m \u001b[1;33m=\u001b[0m \u001b[1;32mNone\u001b[0m\u001b[1;33m,\u001b[0m\u001b[1;33m\n",
       "\u001b[0m    \u001b[0mna_values\u001b[0m\u001b[1;33m:\u001b[0m \u001b[1;34m'Hashable | Iterable[Hashable] | Mapping[Hashable, Iterable[Hashable]] | None'\u001b[0m \u001b[1;33m=\u001b[0m \u001b[1;32mNone\u001b[0m\u001b[1;33m,\u001b[0m\u001b[1;33m\n",
       "\u001b[0m    \u001b[0mkeep_default_na\u001b[0m\u001b[1;33m:\u001b[0m \u001b[1;34m'bool'\u001b[0m \u001b[1;33m=\u001b[0m \u001b[1;32mTrue\u001b[0m\u001b[1;33m,\u001b[0m\u001b[1;33m\n",
       "\u001b[0m    \u001b[0mna_filter\u001b[0m\u001b[1;33m:\u001b[0m \u001b[1;34m'bool'\u001b[0m \u001b[1;33m=\u001b[0m \u001b[1;32mTrue\u001b[0m\u001b[1;33m,\u001b[0m\u001b[1;33m\n",
       "\u001b[0m    \u001b[0mverbose\u001b[0m\u001b[1;33m:\u001b[0m \u001b[1;34m'bool | lib.NoDefault'\u001b[0m \u001b[1;33m=\u001b[0m \u001b[1;33m<\u001b[0m\u001b[0mno_default\u001b[0m\u001b[1;33m>\u001b[0m\u001b[1;33m,\u001b[0m\u001b[1;33m\n",
       "\u001b[0m    \u001b[0mskip_blank_lines\u001b[0m\u001b[1;33m:\u001b[0m \u001b[1;34m'bool'\u001b[0m \u001b[1;33m=\u001b[0m \u001b[1;32mTrue\u001b[0m\u001b[1;33m,\u001b[0m\u001b[1;33m\n",
       "\u001b[0m    \u001b[0mparse_dates\u001b[0m\u001b[1;33m:\u001b[0m \u001b[1;34m'bool | Sequence[Hashable] | None'\u001b[0m \u001b[1;33m=\u001b[0m \u001b[1;32mNone\u001b[0m\u001b[1;33m,\u001b[0m\u001b[1;33m\n",
       "\u001b[0m    \u001b[0minfer_datetime_format\u001b[0m\u001b[1;33m:\u001b[0m \u001b[1;34m'bool | lib.NoDefault'\u001b[0m \u001b[1;33m=\u001b[0m \u001b[1;33m<\u001b[0m\u001b[0mno_default\u001b[0m\u001b[1;33m>\u001b[0m\u001b[1;33m,\u001b[0m\u001b[1;33m\n",
       "\u001b[0m    \u001b[0mkeep_date_col\u001b[0m\u001b[1;33m:\u001b[0m \u001b[1;34m'bool | lib.NoDefault'\u001b[0m \u001b[1;33m=\u001b[0m \u001b[1;33m<\u001b[0m\u001b[0mno_default\u001b[0m\u001b[1;33m>\u001b[0m\u001b[1;33m,\u001b[0m\u001b[1;33m\n",
       "\u001b[0m    \u001b[0mdate_parser\u001b[0m\u001b[1;33m:\u001b[0m \u001b[1;34m'Callable | lib.NoDefault'\u001b[0m \u001b[1;33m=\u001b[0m \u001b[1;33m<\u001b[0m\u001b[0mno_default\u001b[0m\u001b[1;33m>\u001b[0m\u001b[1;33m,\u001b[0m\u001b[1;33m\n",
       "\u001b[0m    \u001b[0mdate_format\u001b[0m\u001b[1;33m:\u001b[0m \u001b[1;34m'str | dict[Hashable, str] | None'\u001b[0m \u001b[1;33m=\u001b[0m \u001b[1;32mNone\u001b[0m\u001b[1;33m,\u001b[0m\u001b[1;33m\n",
       "\u001b[0m    \u001b[0mdayfirst\u001b[0m\u001b[1;33m:\u001b[0m \u001b[1;34m'bool'\u001b[0m \u001b[1;33m=\u001b[0m \u001b[1;32mFalse\u001b[0m\u001b[1;33m,\u001b[0m\u001b[1;33m\n",
       "\u001b[0m    \u001b[0mcache_dates\u001b[0m\u001b[1;33m:\u001b[0m \u001b[1;34m'bool'\u001b[0m \u001b[1;33m=\u001b[0m \u001b[1;32mTrue\u001b[0m\u001b[1;33m,\u001b[0m\u001b[1;33m\n",
       "\u001b[0m    \u001b[0miterator\u001b[0m\u001b[1;33m:\u001b[0m \u001b[1;34m'bool'\u001b[0m \u001b[1;33m=\u001b[0m \u001b[1;32mFalse\u001b[0m\u001b[1;33m,\u001b[0m\u001b[1;33m\n",
       "\u001b[0m    \u001b[0mchunksize\u001b[0m\u001b[1;33m:\u001b[0m \u001b[1;34m'int | None'\u001b[0m \u001b[1;33m=\u001b[0m \u001b[1;32mNone\u001b[0m\u001b[1;33m,\u001b[0m\u001b[1;33m\n",
       "\u001b[0m    \u001b[0mcompression\u001b[0m\u001b[1;33m:\u001b[0m \u001b[1;34m'CompressionOptions'\u001b[0m \u001b[1;33m=\u001b[0m \u001b[1;34m'infer'\u001b[0m\u001b[1;33m,\u001b[0m\u001b[1;33m\n",
       "\u001b[0m    \u001b[0mthousands\u001b[0m\u001b[1;33m:\u001b[0m \u001b[1;34m'str | None'\u001b[0m \u001b[1;33m=\u001b[0m \u001b[1;32mNone\u001b[0m\u001b[1;33m,\u001b[0m\u001b[1;33m\n",
       "\u001b[0m    \u001b[0mdecimal\u001b[0m\u001b[1;33m:\u001b[0m \u001b[1;34m'str'\u001b[0m \u001b[1;33m=\u001b[0m \u001b[1;34m'.'\u001b[0m\u001b[1;33m,\u001b[0m\u001b[1;33m\n",
       "\u001b[0m    \u001b[0mlineterminator\u001b[0m\u001b[1;33m:\u001b[0m \u001b[1;34m'str | None'\u001b[0m \u001b[1;33m=\u001b[0m \u001b[1;32mNone\u001b[0m\u001b[1;33m,\u001b[0m\u001b[1;33m\n",
       "\u001b[0m    \u001b[0mquotechar\u001b[0m\u001b[1;33m:\u001b[0m \u001b[1;34m'str'\u001b[0m \u001b[1;33m=\u001b[0m \u001b[1;34m'\"'\u001b[0m\u001b[1;33m,\u001b[0m\u001b[1;33m\n",
       "\u001b[0m    \u001b[0mquoting\u001b[0m\u001b[1;33m:\u001b[0m \u001b[1;34m'int'\u001b[0m \u001b[1;33m=\u001b[0m \u001b[1;36m0\u001b[0m\u001b[1;33m,\u001b[0m\u001b[1;33m\n",
       "\u001b[0m    \u001b[0mdoublequote\u001b[0m\u001b[1;33m:\u001b[0m \u001b[1;34m'bool'\u001b[0m \u001b[1;33m=\u001b[0m \u001b[1;32mTrue\u001b[0m\u001b[1;33m,\u001b[0m\u001b[1;33m\n",
       "\u001b[0m    \u001b[0mescapechar\u001b[0m\u001b[1;33m:\u001b[0m \u001b[1;34m'str | None'\u001b[0m \u001b[1;33m=\u001b[0m \u001b[1;32mNone\u001b[0m\u001b[1;33m,\u001b[0m\u001b[1;33m\n",
       "\u001b[0m    \u001b[0mcomment\u001b[0m\u001b[1;33m:\u001b[0m \u001b[1;34m'str | None'\u001b[0m \u001b[1;33m=\u001b[0m \u001b[1;32mNone\u001b[0m\u001b[1;33m,\u001b[0m\u001b[1;33m\n",
       "\u001b[0m    \u001b[0mencoding\u001b[0m\u001b[1;33m:\u001b[0m \u001b[1;34m'str | None'\u001b[0m \u001b[1;33m=\u001b[0m \u001b[1;32mNone\u001b[0m\u001b[1;33m,\u001b[0m\u001b[1;33m\n",
       "\u001b[0m    \u001b[0mencoding_errors\u001b[0m\u001b[1;33m:\u001b[0m \u001b[1;34m'str | None'\u001b[0m \u001b[1;33m=\u001b[0m \u001b[1;34m'strict'\u001b[0m\u001b[1;33m,\u001b[0m\u001b[1;33m\n",
       "\u001b[0m    \u001b[0mdialect\u001b[0m\u001b[1;33m:\u001b[0m \u001b[1;34m'str | csv.Dialect | None'\u001b[0m \u001b[1;33m=\u001b[0m \u001b[1;32mNone\u001b[0m\u001b[1;33m,\u001b[0m\u001b[1;33m\n",
       "\u001b[0m    \u001b[0mon_bad_lines\u001b[0m\u001b[1;33m:\u001b[0m \u001b[1;34m'str'\u001b[0m \u001b[1;33m=\u001b[0m \u001b[1;34m'error'\u001b[0m\u001b[1;33m,\u001b[0m\u001b[1;33m\n",
       "\u001b[0m    \u001b[0mdelim_whitespace\u001b[0m\u001b[1;33m:\u001b[0m \u001b[1;34m'bool | lib.NoDefault'\u001b[0m \u001b[1;33m=\u001b[0m \u001b[1;33m<\u001b[0m\u001b[0mno_default\u001b[0m\u001b[1;33m>\u001b[0m\u001b[1;33m,\u001b[0m\u001b[1;33m\n",
       "\u001b[0m    \u001b[0mlow_memory\u001b[0m\u001b[1;33m:\u001b[0m \u001b[1;34m'bool'\u001b[0m \u001b[1;33m=\u001b[0m \u001b[1;32mTrue\u001b[0m\u001b[1;33m,\u001b[0m\u001b[1;33m\n",
       "\u001b[0m    \u001b[0mmemory_map\u001b[0m\u001b[1;33m:\u001b[0m \u001b[1;34m'bool'\u001b[0m \u001b[1;33m=\u001b[0m \u001b[1;32mFalse\u001b[0m\u001b[1;33m,\u001b[0m\u001b[1;33m\n",
       "\u001b[0m    \u001b[0mfloat_precision\u001b[0m\u001b[1;33m:\u001b[0m \u001b[1;34m\"Literal['high', 'legacy'] | None\"\u001b[0m \u001b[1;33m=\u001b[0m \u001b[1;32mNone\u001b[0m\u001b[1;33m,\u001b[0m\u001b[1;33m\n",
       "\u001b[0m    \u001b[0mstorage_options\u001b[0m\u001b[1;33m:\u001b[0m \u001b[1;34m'StorageOptions | None'\u001b[0m \u001b[1;33m=\u001b[0m \u001b[1;32mNone\u001b[0m\u001b[1;33m,\u001b[0m\u001b[1;33m\n",
       "\u001b[0m    \u001b[0mdtype_backend\u001b[0m\u001b[1;33m:\u001b[0m \u001b[1;34m'DtypeBackend | lib.NoDefault'\u001b[0m \u001b[1;33m=\u001b[0m \u001b[1;33m<\u001b[0m\u001b[0mno_default\u001b[0m\u001b[1;33m>\u001b[0m\u001b[1;33m,\u001b[0m\u001b[1;33m\n",
       "\u001b[0m\u001b[1;33m)\u001b[0m \u001b[1;33m->\u001b[0m \u001b[1;34m'DataFrame | TextFileReader'\u001b[0m\u001b[1;33m\u001b[0m\u001b[1;33m\u001b[0m\u001b[0m\n",
       "\u001b[1;31mDocstring:\u001b[0m\n",
       "Read a comma-separated values (csv) file into DataFrame.\n",
       "\n",
       "Also supports optionally iterating or breaking of the file\n",
       "into chunks.\n",
       "\n",
       "Additional help can be found in the online docs for\n",
       "`IO Tools <https://pandas.pydata.org/pandas-docs/stable/user_guide/io.html>`_.\n",
       "\n",
       "Parameters\n",
       "----------\n",
       "filepath_or_buffer : str, path object or file-like object\n",
       "    Any valid string path is acceptable. The string could be a URL. Valid\n",
       "    URL schemes include http, ftp, s3, gs, and file. For file URLs, a host is\n",
       "    expected. A local file could be: file://localhost/path/to/table.csv.\n",
       "\n",
       "    If you want to pass in a path object, pandas accepts any ``os.PathLike``.\n",
       "\n",
       "    By file-like object, we refer to objects with a ``read()`` method, such as\n",
       "    a file handle (e.g. via builtin ``open`` function) or ``StringIO``.\n",
       "sep : str, default ','\n",
       "    Character or regex pattern to treat as the delimiter. If ``sep=None``, the\n",
       "    C engine cannot automatically detect\n",
       "    the separator, but the Python parsing engine can, meaning the latter will\n",
       "    be used and automatically detect the separator from only the first valid\n",
       "    row of the file by Python's builtin sniffer tool, ``csv.Sniffer``.\n",
       "    In addition, separators longer than 1 character and different from\n",
       "    ``'\\s+'`` will be interpreted as regular expressions and will also force\n",
       "    the use of the Python parsing engine. Note that regex delimiters are prone\n",
       "    to ignoring quoted data. Regex example: ``'\\r\\t'``.\n",
       "delimiter : str, optional\n",
       "    Alias for ``sep``.\n",
       "header : int, Sequence of int, 'infer' or None, default 'infer'\n",
       "    Row number(s) containing column labels and marking the start of the\n",
       "    data (zero-indexed). Default behavior is to infer the column names: if no ``names``\n",
       "    are passed the behavior is identical to ``header=0`` and column\n",
       "    names are inferred from the first line of the file, if column\n",
       "    names are passed explicitly to ``names`` then the behavior is identical to\n",
       "    ``header=None``. Explicitly pass ``header=0`` to be able to\n",
       "    replace existing names. The header can be a list of integers that\n",
       "    specify row locations for a :class:`~pandas.MultiIndex` on the columns\n",
       "    e.g. ``[0, 1, 3]``. Intervening rows that are not specified will be\n",
       "    skipped (e.g. 2 in this example is skipped). Note that this\n",
       "    parameter ignores commented lines and empty lines if\n",
       "    ``skip_blank_lines=True``, so ``header=0`` denotes the first line of\n",
       "    data rather than the first line of the file.\n",
       "names : Sequence of Hashable, optional\n",
       "    Sequence of column labels to apply. If the file contains a header row,\n",
       "    then you should explicitly pass ``header=0`` to override the column names.\n",
       "    Duplicates in this list are not allowed.\n",
       "index_col : Hashable, Sequence of Hashable or False, optional\n",
       "  Column(s) to use as row label(s), denoted either by column labels or column\n",
       "  indices.  If a sequence of labels or indices is given, :class:`~pandas.MultiIndex`\n",
       "  will be formed for the row labels.\n",
       "\n",
       "  Note: ``index_col=False`` can be used to force pandas to *not* use the first\n",
       "  column as the index, e.g., when you have a malformed file with delimiters at\n",
       "  the end of each line.\n",
       "usecols : Sequence of Hashable or Callable, optional\n",
       "    Subset of columns to select, denoted either by column labels or column indices.\n",
       "    If list-like, all elements must either\n",
       "    be positional (i.e. integer indices into the document columns) or strings\n",
       "    that correspond to column names provided either by the user in ``names`` or\n",
       "    inferred from the document header row(s). If ``names`` are given, the document\n",
       "    header row(s) are not taken into account. For example, a valid list-like\n",
       "    ``usecols`` parameter would be ``[0, 1, 2]`` or ``['foo', 'bar', 'baz']``.\n",
       "    Element order is ignored, so ``usecols=[0, 1]`` is the same as ``[1, 0]``.\n",
       "    To instantiate a :class:`~pandas.DataFrame` from ``data`` with element order\n",
       "    preserved use ``pd.read_csv(data, usecols=['foo', 'bar'])[['foo', 'bar']]``\n",
       "    for columns in ``['foo', 'bar']`` order or\n",
       "    ``pd.read_csv(data, usecols=['foo', 'bar'])[['bar', 'foo']]``\n",
       "    for ``['bar', 'foo']`` order.\n",
       "\n",
       "    If callable, the callable function will be evaluated against the column\n",
       "    names, returning names where the callable function evaluates to ``True``. An\n",
       "    example of a valid callable argument would be ``lambda x: x.upper() in\n",
       "    ['AAA', 'BBB', 'DDD']``. Using this parameter results in much faster\n",
       "    parsing time and lower memory usage.\n",
       "dtype : dtype or dict of {Hashable : dtype}, optional\n",
       "    Data type(s) to apply to either the whole dataset or individual columns.\n",
       "    E.g., ``{'a': np.float64, 'b': np.int32, 'c': 'Int64'}``\n",
       "    Use ``str`` or ``object`` together with suitable ``na_values`` settings\n",
       "    to preserve and not interpret ``dtype``.\n",
       "    If ``converters`` are specified, they will be applied INSTEAD\n",
       "    of ``dtype`` conversion.\n",
       "\n",
       "    .. versionadded:: 1.5.0\n",
       "\n",
       "        Support for ``defaultdict`` was added. Specify a ``defaultdict`` as input where\n",
       "        the default determines the ``dtype`` of the columns which are not explicitly\n",
       "        listed.\n",
       "engine : {'c', 'python', 'pyarrow'}, optional\n",
       "    Parser engine to use. The C and pyarrow engines are faster, while the python engine\n",
       "    is currently more feature-complete. Multithreading is currently only supported by\n",
       "    the pyarrow engine.\n",
       "\n",
       "    .. versionadded:: 1.4.0\n",
       "\n",
       "        The 'pyarrow' engine was added as an *experimental* engine, and some features\n",
       "        are unsupported, or may not work correctly, with this engine.\n",
       "converters : dict of {Hashable : Callable}, optional\n",
       "    Functions for converting values in specified columns. Keys can either\n",
       "    be column labels or column indices.\n",
       "true_values : list, optional\n",
       "    Values to consider as ``True`` in addition to case-insensitive variants of 'True'.\n",
       "false_values : list, optional\n",
       "    Values to consider as ``False`` in addition to case-insensitive variants of 'False'.\n",
       "skipinitialspace : bool, default False\n",
       "    Skip spaces after delimiter.\n",
       "skiprows : int, list of int or Callable, optional\n",
       "    Line numbers to skip (0-indexed) or number of lines to skip (``int``)\n",
       "    at the start of the file.\n",
       "\n",
       "    If callable, the callable function will be evaluated against the row\n",
       "    indices, returning ``True`` if the row should be skipped and ``False`` otherwise.\n",
       "    An example of a valid callable argument would be ``lambda x: x in [0, 2]``.\n",
       "skipfooter : int, default 0\n",
       "    Number of lines at bottom of file to skip (Unsupported with ``engine='c'``).\n",
       "nrows : int, optional\n",
       "    Number of rows of file to read. Useful for reading pieces of large files.\n",
       "na_values : Hashable, Iterable of Hashable or dict of {Hashable : Iterable}, optional\n",
       "    Additional strings to recognize as ``NA``/``NaN``. If ``dict`` passed, specific\n",
       "    per-column ``NA`` values.  By default the following values are interpreted as\n",
       "    ``NaN``: \" \", \"#N/A\", \"#N/A N/A\", \"#NA\", \"-1.#IND\", \"-1.#QNAN\", \"-NaN\", \"-nan\",\n",
       "    \"1.#IND\", \"1.#QNAN\", \"<NA>\", \"N/A\", \"NA\", \"NULL\", \"NaN\", \"None\",\n",
       "    \"n/a\", \"nan\", \"null \".\n",
       "\n",
       "keep_default_na : bool, default True\n",
       "    Whether or not to include the default ``NaN`` values when parsing the data.\n",
       "    Depending on whether ``na_values`` is passed in, the behavior is as follows:\n",
       "\n",
       "    * If ``keep_default_na`` is ``True``, and ``na_values`` are specified, ``na_values``\n",
       "      is appended to the default ``NaN`` values used for parsing.\n",
       "    * If ``keep_default_na`` is ``True``, and ``na_values`` are not specified, only\n",
       "      the default ``NaN`` values are used for parsing.\n",
       "    * If ``keep_default_na`` is ``False``, and ``na_values`` are specified, only\n",
       "      the ``NaN`` values specified ``na_values`` are used for parsing.\n",
       "    * If ``keep_default_na`` is ``False``, and ``na_values`` are not specified, no\n",
       "      strings will be parsed as ``NaN``.\n",
       "\n",
       "    Note that if ``na_filter`` is passed in as ``False``, the ``keep_default_na`` and\n",
       "    ``na_values`` parameters will be ignored.\n",
       "na_filter : bool, default True\n",
       "    Detect missing value markers (empty strings and the value of ``na_values``). In\n",
       "    data without any ``NA`` values, passing ``na_filter=False`` can improve the\n",
       "    performance of reading a large file.\n",
       "verbose : bool, default False\n",
       "    Indicate number of ``NA`` values placed in non-numeric columns.\n",
       "skip_blank_lines : bool, default True\n",
       "    If ``True``, skip over blank lines rather than interpreting as ``NaN`` values.\n",
       "parse_dates : bool, list of Hashable, list of lists or dict of {Hashable : list}, default False\n",
       "    The behavior is as follows:\n",
       "\n",
       "    * ``bool``. If ``True`` -> try parsing the index. Note: Automatically set to\n",
       "      ``True`` if ``date_format`` or ``date_parser`` arguments have been passed.\n",
       "    * ``list`` of ``int`` or names. e.g. If ``[1, 2, 3]`` -> try parsing columns 1, 2, 3\n",
       "      each as a separate date column.\n",
       "    * ``list`` of ``list``. e.g.  If ``[[1, 3]]`` -> combine columns 1 and 3 and parse\n",
       "      as a single date column. Values are joined with a space before parsing.\n",
       "    * ``dict``, e.g. ``{'foo' : [1, 3]}`` -> parse columns 1, 3 as date and call\n",
       "      result 'foo'. Values are joined with a space before parsing.\n",
       "\n",
       "    If a column or index cannot be represented as an array of ``datetime``,\n",
       "    say because of an unparsable value or a mixture of timezones, the column\n",
       "    or index will be returned unaltered as an ``object`` data type. For\n",
       "    non-standard ``datetime`` parsing, use :func:`~pandas.to_datetime` after\n",
       "    :func:`~pandas.read_csv`.\n",
       "\n",
       "    Note: A fast-path exists for iso8601-formatted dates.\n",
       "infer_datetime_format : bool, default False\n",
       "    If ``True`` and ``parse_dates`` is enabled, pandas will attempt to infer the\n",
       "    format of the ``datetime`` strings in the columns, and if it can be inferred,\n",
       "    switch to a faster method of parsing them. In some cases this can increase\n",
       "    the parsing speed by 5-10x.\n",
       "\n",
       "    .. deprecated:: 2.0.0\n",
       "        A strict version of this argument is now the default, passing it has no effect.\n",
       "\n",
       "keep_date_col : bool, default False\n",
       "    If ``True`` and ``parse_dates`` specifies combining multiple columns then\n",
       "    keep the original columns.\n",
       "date_parser : Callable, optional\n",
       "    Function to use for converting a sequence of string columns to an array of\n",
       "    ``datetime`` instances. The default uses ``dateutil.parser.parser`` to do the\n",
       "    conversion. pandas will try to call ``date_parser`` in three different ways,\n",
       "    advancing to the next if an exception occurs: 1) Pass one or more arrays\n",
       "    (as defined by ``parse_dates``) as arguments; 2) concatenate (row-wise) the\n",
       "    string values from the columns defined by ``parse_dates`` into a single array\n",
       "    and pass that; and 3) call ``date_parser`` once for each row using one or\n",
       "    more strings (corresponding to the columns defined by ``parse_dates``) as\n",
       "    arguments.\n",
       "\n",
       "    .. deprecated:: 2.0.0\n",
       "       Use ``date_format`` instead, or read in as ``object`` and then apply\n",
       "       :func:`~pandas.to_datetime` as-needed.\n",
       "date_format : str or dict of column -> format, optional\n",
       "    Format to use for parsing dates when used in conjunction with ``parse_dates``.\n",
       "    The strftime to parse time, e.g. :const:`\"%d/%m/%Y\"`. See\n",
       "    `strftime documentation\n",
       "    <https://docs.python.org/3/library/datetime.html\n",
       "    #strftime-and-strptime-behavior>`_ for more information on choices, though\n",
       "    note that :const:`\"%f\"` will parse all the way up to nanoseconds.\n",
       "    You can also pass:\n",
       "\n",
       "    - \"ISO8601\", to parse any `ISO8601 <https://en.wikipedia.org/wiki/ISO_8601>`_\n",
       "        time string (not necessarily in exactly the same format);\n",
       "    - \"mixed\", to infer the format for each element individually. This is risky,\n",
       "        and you should probably use it along with `dayfirst`.\n",
       "\n",
       "    .. versionadded:: 2.0.0\n",
       "dayfirst : bool, default False\n",
       "    DD/MM format dates, international and European format.\n",
       "cache_dates : bool, default True\n",
       "    If ``True``, use a cache of unique, converted dates to apply the ``datetime``\n",
       "    conversion. May produce significant speed-up when parsing duplicate\n",
       "    date strings, especially ones with timezone offsets.\n",
       "\n",
       "iterator : bool, default False\n",
       "    Return ``TextFileReader`` object for iteration or getting chunks with\n",
       "    ``get_chunk()``.\n",
       "chunksize : int, optional\n",
       "    Number of lines to read from the file per chunk. Passing a value will cause the\n",
       "    function to return a ``TextFileReader`` object for iteration.\n",
       "    See the `IO Tools docs\n",
       "    <https://pandas.pydata.org/pandas-docs/stable/io.html#io-chunking>`_\n",
       "    for more information on ``iterator`` and ``chunksize``.\n",
       "\n",
       "compression : str or dict, default 'infer'\n",
       "    For on-the-fly decompression of on-disk data. If 'infer' and 'filepath_or_buffer' is\n",
       "    path-like, then detect compression from the following extensions: '.gz',\n",
       "    '.bz2', '.zip', '.xz', '.zst', '.tar', '.tar.gz', '.tar.xz' or '.tar.bz2'\n",
       "    (otherwise no compression).\n",
       "    If using 'zip' or 'tar', the ZIP file must contain only one data file to be read in.\n",
       "    Set to ``None`` for no decompression.\n",
       "    Can also be a dict with key ``'method'`` set\n",
       "    to one of {``'zip'``, ``'gzip'``, ``'bz2'``, ``'zstd'``, ``'xz'``, ``'tar'``} and\n",
       "    other key-value pairs are forwarded to\n",
       "    ``zipfile.ZipFile``, ``gzip.GzipFile``,\n",
       "    ``bz2.BZ2File``, ``zstandard.ZstdDecompressor``, ``lzma.LZMAFile`` or\n",
       "    ``tarfile.TarFile``, respectively.\n",
       "    As an example, the following could be passed for Zstandard decompression using a\n",
       "    custom compression dictionary:\n",
       "    ``compression={'method': 'zstd', 'dict_data': my_compression_dict}``.\n",
       "\n",
       "    .. versionadded:: 1.5.0\n",
       "        Added support for `.tar` files.\n",
       "\n",
       "    .. versionchanged:: 1.4.0 Zstandard support.\n",
       "\n",
       "thousands : str (length 1), optional\n",
       "    Character acting as the thousands separator in numerical values.\n",
       "decimal : str (length 1), default '.'\n",
       "    Character to recognize as decimal point (e.g., use ',' for European data).\n",
       "lineterminator : str (length 1), optional\n",
       "    Character used to denote a line break. Only valid with C parser.\n",
       "quotechar : str (length 1), optional\n",
       "    Character used to denote the start and end of a quoted item. Quoted\n",
       "    items can include the ``delimiter`` and it will be ignored.\n",
       "quoting : {0 or csv.QUOTE_MINIMAL, 1 or csv.QUOTE_ALL, 2 or csv.QUOTE_NONNUMERIC, 3 or csv.QUOTE_NONE}, default csv.QUOTE_MINIMAL\n",
       "    Control field quoting behavior per ``csv.QUOTE_*`` constants. Default is\n",
       "    ``csv.QUOTE_MINIMAL`` (i.e., 0) which implies that only fields containing special\n",
       "    characters are quoted (e.g., characters defined in ``quotechar``, ``delimiter``,\n",
       "    or ``lineterminator``.\n",
       "doublequote : bool, default True\n",
       "   When ``quotechar`` is specified and ``quoting`` is not ``QUOTE_NONE``, indicate\n",
       "   whether or not to interpret two consecutive ``quotechar`` elements INSIDE a\n",
       "   field as a single ``quotechar`` element.\n",
       "escapechar : str (length 1), optional\n",
       "    Character used to escape other characters.\n",
       "comment : str (length 1), optional\n",
       "    Character indicating that the remainder of line should not be parsed.\n",
       "    If found at the beginning\n",
       "    of a line, the line will be ignored altogether. This parameter must be a\n",
       "    single character. Like empty lines (as long as ``skip_blank_lines=True``),\n",
       "    fully commented lines are ignored by the parameter ``header`` but not by\n",
       "    ``skiprows``. For example, if ``comment='#'``, parsing\n",
       "    ``#empty\\na,b,c\\n1,2,3`` with ``header=0`` will result in ``'a,b,c'`` being\n",
       "    treated as the header.\n",
       "encoding : str, optional, default 'utf-8'\n",
       "    Encoding to use for UTF when reading/writing (ex. ``'utf-8'``). `List of Python\n",
       "    standard encodings\n",
       "    <https://docs.python.org/3/library/codecs.html#standard-encodings>`_ .\n",
       "\n",
       "encoding_errors : str, optional, default 'strict'\n",
       "    How encoding errors are treated. `List of possible values\n",
       "    <https://docs.python.org/3/library/codecs.html#error-handlers>`_ .\n",
       "\n",
       "    .. versionadded:: 1.3.0\n",
       "\n",
       "dialect : str or csv.Dialect, optional\n",
       "    If provided, this parameter will override values (default or not) for the\n",
       "    following parameters: ``delimiter``, ``doublequote``, ``escapechar``,\n",
       "    ``skipinitialspace``, ``quotechar``, and ``quoting``. If it is necessary to\n",
       "    override values, a ``ParserWarning`` will be issued. See ``csv.Dialect``\n",
       "    documentation for more details.\n",
       "on_bad_lines : {'error', 'warn', 'skip'} or Callable, default 'error'\n",
       "    Specifies what to do upon encountering a bad line (a line with too many fields).\n",
       "    Allowed values are :\n",
       "\n",
       "    - ``'error'``, raise an Exception when a bad line is encountered.\n",
       "    - ``'warn'``, raise a warning when a bad line is encountered and skip that line.\n",
       "    - ``'skip'``, skip bad lines without raising or warning when they are encountered.\n",
       "\n",
       "    .. versionadded:: 1.3.0\n",
       "\n",
       "    .. versionadded:: 1.4.0\n",
       "\n",
       "        - Callable, function with signature\n",
       "          ``(bad_line: list[str]) -> list[str] | None`` that will process a single\n",
       "          bad line. ``bad_line`` is a list of strings split by the ``sep``.\n",
       "          If the function returns ``None``, the bad line will be ignored.\n",
       "          If the function returns a new ``list`` of strings with more elements than\n",
       "          expected, a ``ParserWarning`` will be emitted while dropping extra elements.\n",
       "          Only supported when ``engine='python'``\n",
       "\n",
       "    .. versionchanged:: 2.2.0\n",
       "\n",
       "        - Callable, function with signature\n",
       "          as described in `pyarrow documentation\n",
       "          <https://arrow.apache.org/docs/python/generated/pyarrow.csv.ParseOptions.html\n",
       "          #pyarrow.csv.ParseOptions.invalid_row_handler>`_ when ``engine='pyarrow'``\n",
       "\n",
       "delim_whitespace : bool, default False\n",
       "    Specifies whether or not whitespace (e.g. ``' '`` or ``'\\t'``) will be\n",
       "    used as the ``sep`` delimiter. Equivalent to setting ``sep='\\s+'``. If this option\n",
       "    is set to ``True``, nothing should be passed in for the ``delimiter``\n",
       "    parameter.\n",
       "\n",
       "    .. deprecated:: 2.2.0\n",
       "        Use ``sep=\"\\s+\"`` instead.\n",
       "low_memory : bool, default True\n",
       "    Internally process the file in chunks, resulting in lower memory use\n",
       "    while parsing, but possibly mixed type inference.  To ensure no mixed\n",
       "    types either set ``False``, or specify the type with the ``dtype`` parameter.\n",
       "    Note that the entire file is read into a single :class:`~pandas.DataFrame`\n",
       "    regardless, use the ``chunksize`` or ``iterator`` parameter to return the data in\n",
       "    chunks. (Only valid with C parser).\n",
       "memory_map : bool, default False\n",
       "    If a filepath is provided for ``filepath_or_buffer``, map the file object\n",
       "    directly onto memory and access the data directly from there. Using this\n",
       "    option can improve performance because there is no longer any I/O overhead.\n",
       "float_precision : {'high', 'legacy', 'round_trip'}, optional\n",
       "    Specifies which converter the C engine should use for floating-point\n",
       "    values. The options are ``None`` or ``'high'`` for the ordinary converter,\n",
       "    ``'legacy'`` for the original lower precision pandas converter, and\n",
       "    ``'round_trip'`` for the round-trip converter.\n",
       "\n",
       "storage_options : dict, optional\n",
       "    Extra options that make sense for a particular storage connection, e.g.\n",
       "    host, port, username, password, etc. For HTTP(S) URLs the key-value pairs\n",
       "    are forwarded to ``urllib.request.Request`` as header options. For other\n",
       "    URLs (e.g. starting with \"s3://\", and \"gcs://\") the key-value pairs are\n",
       "    forwarded to ``fsspec.open``. Please see ``fsspec`` and ``urllib`` for more\n",
       "    details, and for more examples on storage options refer `here\n",
       "    <https://pandas.pydata.org/docs/user_guide/io.html?\n",
       "    highlight=storage_options#reading-writing-remote-files>`_.\n",
       "\n",
       "dtype_backend : {'numpy_nullable', 'pyarrow'}, default 'numpy_nullable'\n",
       "    Back-end data type applied to the resultant :class:`DataFrame`\n",
       "    (still experimental). Behaviour is as follows:\n",
       "\n",
       "    * ``\"numpy_nullable\"``: returns nullable-dtype-backed :class:`DataFrame`\n",
       "      (default).\n",
       "    * ``\"pyarrow\"``: returns pyarrow-backed nullable :class:`ArrowDtype`\n",
       "      DataFrame.\n",
       "\n",
       "    .. versionadded:: 2.0\n",
       "\n",
       "Returns\n",
       "-------\n",
       "DataFrame or TextFileReader\n",
       "    A comma-separated values (csv) file is returned as two-dimensional\n",
       "    data structure with labeled axes.\n",
       "\n",
       "See Also\n",
       "--------\n",
       "DataFrame.to_csv : Write DataFrame to a comma-separated values (csv) file.\n",
       "read_table : Read general delimited file into DataFrame.\n",
       "read_fwf : Read a table of fixed-width formatted lines into DataFrame.\n",
       "\n",
       "Examples\n",
       "--------\n",
       ">>> pd.read_csv('data.csv')  # doctest: +SKIP\n",
       "\u001b[1;31mFile:\u001b[0m      c:\\users\\matthias\\anaconda3\\envs\\env312\\lib\\site-packages\\pandas\\io\\parsers\\readers.py\n",
       "\u001b[1;31mType:\u001b[0m      function"
      ]
     },
     "metadata": {},
     "output_type": "display_data"
    }
   ],
   "source": [
    "pd.read_csv?"
   ]
  },
  {
   "cell_type": "code",
   "execution_count": 37,
   "id": "87d7bac8-02f6-4f02-8d08-147a92529586",
   "metadata": {},
   "outputs": [
    {
     "data": {
      "text/html": [
       "<div>\n",
       "<style scoped>\n",
       "    .dataframe tbody tr th:only-of-type {\n",
       "        vertical-align: middle;\n",
       "    }\n",
       "\n",
       "    .dataframe tbody tr th {\n",
       "        vertical-align: top;\n",
       "    }\n",
       "\n",
       "    .dataframe thead th {\n",
       "        text-align: right;\n",
       "    }\n",
       "</style>\n",
       "<table border=\"1\" class=\"dataframe\">\n",
       "  <thead>\n",
       "    <tr style=\"text-align: right;\">\n",
       "      <th></th>\n",
       "      <th>name</th>\n",
       "      <th>population</th>\n",
       "      <th>cp</th>\n",
       "    </tr>\n",
       "  </thead>\n",
       "  <tbody>\n",
       "    <tr>\n",
       "      <th>0</th>\n",
       "      <td>Pau</td>\n",
       "      <td>77000</td>\n",
       "      <td>64000</td>\n",
       "    </tr>\n",
       "    <tr>\n",
       "      <th>1</th>\n",
       "      <td>Toulouse</td>\n",
       "      <td>477000</td>\n",
       "      <td>31000</td>\n",
       "    </tr>\n",
       "    <tr>\n",
       "      <th>2</th>\n",
       "      <td>Nîmes</td>\n",
       "      <td>150000</td>\n",
       "      <td>30000</td>\n",
       "    </tr>\n",
       "    <tr>\n",
       "      <th>3</th>\n",
       "      <td>Foix</td>\n",
       "      <td>9706</td>\n",
       "      <td>09000</td>\n",
       "    </tr>\n",
       "  </tbody>\n",
       "</table>\n",
       "</div>"
      ],
      "text/plain": [
       "       name  population     cp\n",
       "0       Pau       77000  64000\n",
       "1  Toulouse      477000  31000\n",
       "2     Nîmes      150000  30000\n",
       "3      Foix        9706  09000"
      ]
     },
     "execution_count": 37,
     "metadata": {},
     "output_type": "execute_result"
    }
   ],
   "source": [
    "df_cities = pd.read_csv('data/cities.csv', dtype={'cp': 'str'})\n",
    "df_cities"
   ]
  },
  {
   "cell_type": "code",
   "execution_count": 38,
   "id": "c40f9229-98c8-4b6d-a6c9-1ccfb2db2fbd",
   "metadata": {},
   "outputs": [
    {
     "name": "stdout",
     "output_type": "stream",
     "text": [
      "<class 'pandas.core.frame.DataFrame'>\n",
      "RangeIndex: 4 entries, 0 to 3\n",
      "Data columns (total 3 columns):\n",
      " #   Column      Non-Null Count  Dtype \n",
      "---  ------      --------------  ----- \n",
      " 0   name        4 non-null      object\n",
      " 1   population  4 non-null      int64 \n",
      " 2   cp          4 non-null      object\n",
      "dtypes: int64(1), object(2)\n",
      "memory usage: 228.0+ bytes\n"
     ]
    }
   ],
   "source": [
    "df_cities.info()"
   ]
  },
  {
   "cell_type": "code",
   "execution_count": 39,
   "id": "390324d1-8b62-4008-8de5-68a774592127",
   "metadata": {},
   "outputs": [
    {
     "data": {
      "text/plain": [
       "pandas.core.frame.DataFrame"
      ]
     },
     "execution_count": 39,
     "metadata": {},
     "output_type": "execute_result"
    }
   ],
   "source": [
    "type(df_cities)"
   ]
  },
  {
   "cell_type": "code",
   "execution_count": 40,
   "id": "7bada983-56aa-4183-bfc8-0c9873e63987",
   "metadata": {},
   "outputs": [
    {
     "data": {
      "text/plain": [
       "0     77000\n",
       "1    477000\n",
       "2    150000\n",
       "3      9706\n",
       "Name: population, dtype: int64"
      ]
     },
     "execution_count": 40,
     "metadata": {},
     "output_type": "execute_result"
    }
   ],
   "source": [
    "df_cities.population"
   ]
  },
  {
   "cell_type": "code",
   "execution_count": 41,
   "id": "1cbc15dd-05fc-42a2-a34e-0afb835972a1",
   "metadata": {},
   "outputs": [
    {
     "data": {
      "text/plain": [
       "0     77000\n",
       "1    477000\n",
       "2    150000\n",
       "3      9706\n",
       "Name: population, dtype: int64"
      ]
     },
     "execution_count": 41,
     "metadata": {},
     "output_type": "execute_result"
    }
   ],
   "source": [
    "df_cities['population']"
   ]
  },
  {
   "cell_type": "code",
   "execution_count": 44,
   "id": "c0b44670-9812-4619-a8f4-bfeb11606b79",
   "metadata": {},
   "outputs": [
    {
     "data": {
      "text/plain": [
       "pandas.core.series.Series"
      ]
     },
     "execution_count": 44,
     "metadata": {},
     "output_type": "execute_result"
    }
   ],
   "source": [
    "type(df_cities.population)"
   ]
  },
  {
   "cell_type": "code",
   "execution_count": 42,
   "id": "acd09b2d-0676-40d6-be63-4998ed598185",
   "metadata": {},
   "outputs": [
    {
     "data": {
      "text/plain": [
       "713706"
      ]
     },
     "execution_count": 42,
     "metadata": {},
     "output_type": "execute_result"
    }
   ],
   "source": [
    "sum(df_cities.population)"
   ]
  },
  {
   "cell_type": "code",
   "execution_count": 45,
   "id": "f4b2c8ff-4666-4ee2-98b1-612184a210d8",
   "metadata": {},
   "outputs": [
    {
     "name": "stdout",
     "output_type": "stream",
     "text": [
      "population: total=713706, min=9706, max=477000, average=178426.5\n"
     ]
    }
   ],
   "source": [
    "total_population = df_cities.population.sum()\n",
    "min_population = df_cities.population.min()\n",
    "max_population = df_cities.population.max()\n",
    "avg_population = df_cities.population.mean()\n",
    "print(f\"population: total={total_population}, min={min_population}, max={max_population}, average={avg_population}\")"
   ]
  },
  {
   "cell_type": "code",
   "execution_count": 50,
   "id": "9d2b9a7c-0279-4b6e-92c0-e38bbd357e35",
   "metadata": {},
   "outputs": [],
   "source": [
    "df_cities.to_json('data/cities.json', orient='records')"
   ]
  },
  {
   "cell_type": "markdown",
   "id": "65341195-c44c-410a-bb08-1f00b54da154",
   "metadata": {},
   "source": [
    "## Read csv with module csv"
   ]
  },
  {
   "cell_type": "code",
   "execution_count": 59,
   "id": "fae7f97a-1ff0-49a5-a2c6-fd6e4a47955f",
   "metadata": {},
   "outputs": [
    {
     "name": "stdout",
     "output_type": "stream",
     "text": [
      "Headers: ['name', 'population', 'cp']\n",
      "Row: ('Pau', 77000, '64000')\n",
      "Row: ('Toulouse', 477000, '31000')\n",
      "Row: ('Nîmes', 150000, '30000')\n",
      "Row: ('Foix', 9706, '09000')\n"
     ]
    },
    {
     "data": {
      "text/plain": [
       "[('Pau', 77000, '64000'),\n",
       " ('Toulouse', 477000, '31000'),\n",
       " ('Nîmes', 150000, '30000'),\n",
       " ('Foix', 9706, '09000')]"
      ]
     },
     "execution_count": 59,
     "metadata": {},
     "output_type": "execute_result"
    }
   ],
   "source": [
    "f = open('data/cities.csv', newline='', encoding='UTF-8')\n",
    "csv_reader = csv.reader(f, delimiter=\",\")\n",
    "headers = next(csv_reader)\n",
    "print(\"Headers:\", headers)\n",
    "cities = []\n",
    "for data in csv_reader:\n",
    "    data_converted = (data[0], int(data[1]), data[2])\n",
    "    cities.append(data_converted)\n",
    "    print(\"Row:\", data_converted)\n",
    "f.close()\n",
    "cities"
   ]
  },
  {
   "cell_type": "code",
   "execution_count": 60,
   "id": "c235ea5c-4789-4a95-b192-25c48b533bb2",
   "metadata": {},
   "outputs": [
    {
     "name": "stdout",
     "output_type": "stream",
     "text": [
      "Headers: ['name', 'population', 'cp']\n",
      "Row: ('Pau', 77000, '64000')\n",
      "Row: ('Toulouse', 477000, '31000')\n",
      "Row: ('Nîmes', 150000, '30000')\n",
      "Row: ('Foix', 9706, '09000')\n"
     ]
    },
    {
     "data": {
      "text/plain": [
       "[('Pau', 77000, '64000'),\n",
       " ('Toulouse', 477000, '31000'),\n",
       " ('Nîmes', 150000, '30000'),\n",
       " ('Foix', 9706, '09000')]"
      ]
     },
     "execution_count": 60,
     "metadata": {},
     "output_type": "execute_result"
    }
   ],
   "source": [
    "f = open('data/cities.csv', newline='', encoding='UTF-8')\n",
    "csv_reader = csv.reader(f, delimiter=\",\")\n",
    "headers = next(csv_reader)\n",
    "print(\"Headers:\", headers)\n",
    "cities = []\n",
    "for name, population, cp in csv_reader:\n",
    "    data_converted = (name, int(population), cp)\n",
    "    cities.append(data_converted)\n",
    "    print(\"Row:\", data_converted)\n",
    "f.close()\n",
    "cities"
   ]
  },
  {
   "cell_type": "code",
   "execution_count": 63,
   "id": "5ff60d3e-dcf6-4eef-a03e-b5560364bd54",
   "metadata": {},
   "outputs": [
    {
     "data": {
      "text/html": [
       "<div>\n",
       "<style scoped>\n",
       "    .dataframe tbody tr th:only-of-type {\n",
       "        vertical-align: middle;\n",
       "    }\n",
       "\n",
       "    .dataframe tbody tr th {\n",
       "        vertical-align: top;\n",
       "    }\n",
       "\n",
       "    .dataframe thead th {\n",
       "        text-align: right;\n",
       "    }\n",
       "</style>\n",
       "<table border=\"1\" class=\"dataframe\">\n",
       "  <thead>\n",
       "    <tr style=\"text-align: right;\">\n",
       "      <th></th>\n",
       "      <th>name</th>\n",
       "      <th>population</th>\n",
       "      <th>cp</th>\n",
       "    </tr>\n",
       "  </thead>\n",
       "  <tbody>\n",
       "    <tr>\n",
       "      <th>0</th>\n",
       "      <td>Pau</td>\n",
       "      <td>77000</td>\n",
       "      <td>64000</td>\n",
       "    </tr>\n",
       "    <tr>\n",
       "      <th>1</th>\n",
       "      <td>Toulouse</td>\n",
       "      <td>477000</td>\n",
       "      <td>31000</td>\n",
       "    </tr>\n",
       "    <tr>\n",
       "      <th>2</th>\n",
       "      <td>Nîmes</td>\n",
       "      <td>150000</td>\n",
       "      <td>30000</td>\n",
       "    </tr>\n",
       "    <tr>\n",
       "      <th>3</th>\n",
       "      <td>Foix</td>\n",
       "      <td>9706</td>\n",
       "      <td>09000</td>\n",
       "    </tr>\n",
       "  </tbody>\n",
       "</table>\n",
       "</div>"
      ],
      "text/plain": [
       "       name  population     cp\n",
       "0       Pau       77000  64000\n",
       "1  Toulouse      477000  31000\n",
       "2     Nîmes      150000  30000\n",
       "3      Foix        9706  09000"
      ]
     },
     "execution_count": 63,
     "metadata": {},
     "output_type": "execute_result"
    }
   ],
   "source": [
    "df_cities = pd.DataFrame(cities, columns=headers)\n",
    "df_cities"
   ]
  },
  {
   "cell_type": "markdown",
   "id": "8665eef7-3d17-4111-8473-9bc2e477f44e",
   "metadata": {},
   "source": [
    "## All cities in France\n",
    "source: https://www.data.gouv.fr/fr/datasets/villes-de-france/"
   ]
  },
  {
   "cell_type": "code",
   "execution_count": 65,
   "id": "eefac732-08bb-4505-83c1-4b91d0ea3059",
   "metadata": {},
   "outputs": [
    {
     "data": {
      "text/html": [
       "<div>\n",
       "<style scoped>\n",
       "    .dataframe tbody tr th:only-of-type {\n",
       "        vertical-align: middle;\n",
       "    }\n",
       "\n",
       "    .dataframe tbody tr th {\n",
       "        vertical-align: top;\n",
       "    }\n",
       "\n",
       "    .dataframe thead th {\n",
       "        text-align: right;\n",
       "    }\n",
       "</style>\n",
       "<table border=\"1\" class=\"dataframe\">\n",
       "  <thead>\n",
       "    <tr style=\"text-align: right;\">\n",
       "      <th></th>\n",
       "      <th>insee_code</th>\n",
       "      <th>city_code</th>\n",
       "      <th>zip_code</th>\n",
       "      <th>label</th>\n",
       "      <th>latitude</th>\n",
       "      <th>longitude</th>\n",
       "      <th>department_name</th>\n",
       "      <th>department_number</th>\n",
       "      <th>region_name</th>\n",
       "      <th>region_geojson_name</th>\n",
       "    </tr>\n",
       "  </thead>\n",
       "  <tbody>\n",
       "    <tr>\n",
       "      <th>0</th>\n",
       "      <td>25620</td>\n",
       "      <td>ville du pont</td>\n",
       "      <td>25650</td>\n",
       "      <td>ville du pont</td>\n",
       "      <td>46.999873</td>\n",
       "      <td>6.498147</td>\n",
       "      <td>doubs</td>\n",
       "      <td>25</td>\n",
       "      <td>bourgogne-franche-comté</td>\n",
       "      <td>Bourgogne-Franche-Comté</td>\n",
       "    </tr>\n",
       "    <tr>\n",
       "      <th>1</th>\n",
       "      <td>25624</td>\n",
       "      <td>villers grelot</td>\n",
       "      <td>25640</td>\n",
       "      <td>villers grelot</td>\n",
       "      <td>47.361512</td>\n",
       "      <td>6.235167</td>\n",
       "      <td>doubs</td>\n",
       "      <td>25</td>\n",
       "      <td>bourgogne-franche-comté</td>\n",
       "      <td>Bourgogne-Franche-Comté</td>\n",
       "    </tr>\n",
       "    <tr>\n",
       "      <th>2</th>\n",
       "      <td>25615</td>\n",
       "      <td>villars les blamont</td>\n",
       "      <td>25310</td>\n",
       "      <td>villars les blamont</td>\n",
       "      <td>47.368384</td>\n",
       "      <td>6.871415</td>\n",
       "      <td>doubs</td>\n",
       "      <td>25</td>\n",
       "      <td>bourgogne-franche-comté</td>\n",
       "      <td>Bourgogne-Franche-Comté</td>\n",
       "    </tr>\n",
       "    <tr>\n",
       "      <th>3</th>\n",
       "      <td>25619</td>\n",
       "      <td>les villedieu</td>\n",
       "      <td>25240</td>\n",
       "      <td>les villedieu</td>\n",
       "      <td>46.713906</td>\n",
       "      <td>6.265831</td>\n",
       "      <td>doubs</td>\n",
       "      <td>25</td>\n",
       "      <td>bourgogne-franche-comté</td>\n",
       "      <td>Bourgogne-Franche-Comté</td>\n",
       "    </tr>\n",
       "    <tr>\n",
       "      <th>4</th>\n",
       "      <td>25622</td>\n",
       "      <td>villers buzon</td>\n",
       "      <td>25170</td>\n",
       "      <td>villers buzon</td>\n",
       "      <td>47.228558</td>\n",
       "      <td>5.852187</td>\n",
       "      <td>doubs</td>\n",
       "      <td>25</td>\n",
       "      <td>bourgogne-franche-comté</td>\n",
       "      <td>Bourgogne-Franche-Comté</td>\n",
       "    </tr>\n",
       "    <tr>\n",
       "      <th>...</th>\n",
       "      <td>...</td>\n",
       "      <td>...</td>\n",
       "      <td>...</td>\n",
       "      <td>...</td>\n",
       "      <td>...</td>\n",
       "      <td>...</td>\n",
       "      <td>...</td>\n",
       "      <td>...</td>\n",
       "      <td>...</td>\n",
       "      <td>...</td>\n",
       "    </tr>\n",
       "    <tr>\n",
       "      <th>39140</th>\n",
       "      <td>98829</td>\n",
       "      <td>thio</td>\n",
       "      <td>98829</td>\n",
       "      <td>thio</td>\n",
       "      <td>NaN</td>\n",
       "      <td>NaN</td>\n",
       "      <td>nouvelle-calédonie</td>\n",
       "      <td>988</td>\n",
       "      <td>nouvelle-calédonie</td>\n",
       "      <td>Nouvelle Calédonie</td>\n",
       "    </tr>\n",
       "    <tr>\n",
       "      <th>39141</th>\n",
       "      <td>98831</td>\n",
       "      <td>voh</td>\n",
       "      <td>98833</td>\n",
       "      <td>voh</td>\n",
       "      <td>NaN</td>\n",
       "      <td>NaN</td>\n",
       "      <td>nouvelle-calédonie</td>\n",
       "      <td>988</td>\n",
       "      <td>nouvelle-calédonie</td>\n",
       "      <td>Nouvelle Calédonie</td>\n",
       "    </tr>\n",
       "    <tr>\n",
       "      <th>39142</th>\n",
       "      <td>98832</td>\n",
       "      <td>yate</td>\n",
       "      <td>98834</td>\n",
       "      <td>yate</td>\n",
       "      <td>NaN</td>\n",
       "      <td>NaN</td>\n",
       "      <td>nouvelle-calédonie</td>\n",
       "      <td>988</td>\n",
       "      <td>nouvelle-calédonie</td>\n",
       "      <td>Nouvelle Calédonie</td>\n",
       "    </tr>\n",
       "    <tr>\n",
       "      <th>39143</th>\n",
       "      <td>98612</td>\n",
       "      <td>sigave</td>\n",
       "      <td>98620</td>\n",
       "      <td>sigave</td>\n",
       "      <td>-14.270411</td>\n",
       "      <td>-178.155263</td>\n",
       "      <td>wallis-et-futuna</td>\n",
       "      <td>986</td>\n",
       "      <td>wallis-et-futuna</td>\n",
       "      <td>Wallis-et-Futuna</td>\n",
       "    </tr>\n",
       "    <tr>\n",
       "      <th>39144</th>\n",
       "      <td>98613</td>\n",
       "      <td>uvea</td>\n",
       "      <td>98600</td>\n",
       "      <td>uvea</td>\n",
       "      <td>-13.281863</td>\n",
       "      <td>-176.161928</td>\n",
       "      <td>wallis-et-futuna</td>\n",
       "      <td>986</td>\n",
       "      <td>wallis-et-futuna</td>\n",
       "      <td>Wallis-et-Futuna</td>\n",
       "    </tr>\n",
       "  </tbody>\n",
       "</table>\n",
       "<p>39145 rows × 10 columns</p>\n",
       "</div>"
      ],
      "text/plain": [
       "      insee_code            city_code  zip_code                label  \\\n",
       "0          25620        ville du pont     25650        ville du pont   \n",
       "1          25624       villers grelot     25640       villers grelot   \n",
       "2          25615  villars les blamont     25310  villars les blamont   \n",
       "3          25619        les villedieu     25240        les villedieu   \n",
       "4          25622        villers buzon     25170        villers buzon   \n",
       "...          ...                  ...       ...                  ...   \n",
       "39140      98829                 thio     98829                 thio   \n",
       "39141      98831                  voh     98833                  voh   \n",
       "39142      98832                 yate     98834                 yate   \n",
       "39143      98612               sigave     98620               sigave   \n",
       "39144      98613                 uvea     98600                 uvea   \n",
       "\n",
       "        latitude   longitude     department_name department_number  \\\n",
       "0      46.999873    6.498147               doubs                25   \n",
       "1      47.361512    6.235167               doubs                25   \n",
       "2      47.368384    6.871415               doubs                25   \n",
       "3      46.713906    6.265831               doubs                25   \n",
       "4      47.228558    5.852187               doubs                25   \n",
       "...          ...         ...                 ...               ...   \n",
       "39140        NaN         NaN  nouvelle-calédonie               988   \n",
       "39141        NaN         NaN  nouvelle-calédonie               988   \n",
       "39142        NaN         NaN  nouvelle-calédonie               988   \n",
       "39143 -14.270411 -178.155263    wallis-et-futuna               986   \n",
       "39144 -13.281863 -176.161928    wallis-et-futuna               986   \n",
       "\n",
       "                   region_name      region_geojson_name  \n",
       "0      bourgogne-franche-comté  Bourgogne-Franche-Comté  \n",
       "1      bourgogne-franche-comté  Bourgogne-Franche-Comté  \n",
       "2      bourgogne-franche-comté  Bourgogne-Franche-Comté  \n",
       "3      bourgogne-franche-comté  Bourgogne-Franche-Comté  \n",
       "4      bourgogne-franche-comté  Bourgogne-Franche-Comté  \n",
       "...                        ...                      ...  \n",
       "39140       nouvelle-calédonie       Nouvelle Calédonie  \n",
       "39141       nouvelle-calédonie       Nouvelle Calédonie  \n",
       "39142       nouvelle-calédonie       Nouvelle Calédonie  \n",
       "39143         wallis-et-futuna         Wallis-et-Futuna  \n",
       "39144         wallis-et-futuna         Wallis-et-Futuna  \n",
       "\n",
       "[39145 rows x 10 columns]"
      ]
     },
     "execution_count": 65,
     "metadata": {},
     "output_type": "execute_result"
    }
   ],
   "source": [
    "df_cities_fr = pd.read_csv('data/cities_gouv.csv')\n",
    "df_cities_fr"
   ]
  },
  {
   "cell_type": "code",
   "execution_count": 66,
   "id": "024e4c83-7e18-4714-8285-5d7f01ec2f34",
   "metadata": {},
   "outputs": [
    {
     "data": {
      "text/html": [
       "<div>\n",
       "<style scoped>\n",
       "    .dataframe tbody tr th:only-of-type {\n",
       "        vertical-align: middle;\n",
       "    }\n",
       "\n",
       "    .dataframe tbody tr th {\n",
       "        vertical-align: top;\n",
       "    }\n",
       "\n",
       "    .dataframe thead th {\n",
       "        text-align: right;\n",
       "    }\n",
       "</style>\n",
       "<table border=\"1\" class=\"dataframe\">\n",
       "  <thead>\n",
       "    <tr style=\"text-align: right;\">\n",
       "      <th></th>\n",
       "      <th>insee_code</th>\n",
       "      <th>city_code</th>\n",
       "      <th>zip_code</th>\n",
       "      <th>label</th>\n",
       "      <th>latitude</th>\n",
       "      <th>longitude</th>\n",
       "      <th>department_name</th>\n",
       "      <th>department_number</th>\n",
       "      <th>region_name</th>\n",
       "      <th>region_geojson_name</th>\n",
       "    </tr>\n",
       "  </thead>\n",
       "  <tbody>\n",
       "    <tr>\n",
       "      <th>21274</th>\n",
       "      <td>30189</td>\n",
       "      <td>nimes</td>\n",
       "      <td>30000</td>\n",
       "      <td>nimes</td>\n",
       "      <td>43.844658</td>\n",
       "      <td>4.347591</td>\n",
       "      <td>gard</td>\n",
       "      <td>30</td>\n",
       "      <td>occitanie</td>\n",
       "      <td>Occitanie</td>\n",
       "    </tr>\n",
       "    <tr>\n",
       "      <th>21668</th>\n",
       "      <td>30189</td>\n",
       "      <td>nimes</td>\n",
       "      <td>30900</td>\n",
       "      <td>nimes</td>\n",
       "      <td>43.844658</td>\n",
       "      <td>4.347591</td>\n",
       "      <td>gard</td>\n",
       "      <td>30</td>\n",
       "      <td>occitanie</td>\n",
       "      <td>Occitanie</td>\n",
       "    </tr>\n",
       "    <tr>\n",
       "      <th>24177</th>\n",
       "      <td>30189</td>\n",
       "      <td>nimes</td>\n",
       "      <td>30900</td>\n",
       "      <td>nimes</td>\n",
       "      <td>43.844658</td>\n",
       "      <td>4.347591</td>\n",
       "      <td>gard</td>\n",
       "      <td>30</td>\n",
       "      <td>occitanie</td>\n",
       "      <td>Occitanie</td>\n",
       "    </tr>\n",
       "  </tbody>\n",
       "</table>\n",
       "</div>"
      ],
      "text/plain": [
       "      insee_code city_code  zip_code  label   latitude  longitude  \\\n",
       "21274      30189     nimes     30000  nimes  43.844658   4.347591   \n",
       "21668      30189     nimes     30900  nimes  43.844658   4.347591   \n",
       "24177      30189     nimes     30900  nimes  43.844658   4.347591   \n",
       "\n",
       "      department_name department_number region_name region_geojson_name  \n",
       "21274            gard                30   occitanie           Occitanie  \n",
       "21668            gard                30   occitanie           Occitanie  \n",
       "24177            gard                30   occitanie           Occitanie  "
      ]
     },
     "execution_count": 66,
     "metadata": {},
     "output_type": "execute_result"
    }
   ],
   "source": [
    "df_cities_fr.loc[df_cities_fr.label.str.match('nimes')]"
   ]
  },
  {
   "cell_type": "markdown",
   "id": "e8eb8783-8047-4fc0-9b01-248240878442",
   "metadata": {},
   "source": [
    "## Photos classifier"
   ]
  },
  {
   "cell_type": "code",
   "execution_count": 9,
   "id": "4e8b1901-835a-4eb7-946c-a187b13286b0",
   "metadata": {},
   "outputs": [],
   "source": [
    "archive_url = \"https://drive.usercontent.google.com/u/0/uc?id=1snAfzMO4kMahMEDsE8HxahrQunfpXKwa&export=download\""
   ]
  },
  {
   "cell_type": "code",
   "execution_count": 10,
   "id": "d4d333f3-1c7c-4384-80e1-c8ccee91bc5c",
   "metadata": {},
   "outputs": [
    {
     "data": {
      "text/plain": [
       "<Response [200]>"
      ]
     },
     "execution_count": 10,
     "metadata": {},
     "output_type": "execute_result"
    }
   ],
   "source": [
    "r = requests.get(archive_url)\n",
    "r"
   ]
  },
  {
   "cell_type": "code",
   "execution_count": 11,
   "id": "7fbba3a7-5237-4ebe-ad79-ffd448630e35",
   "metadata": {},
   "outputs": [
    {
     "data": {
      "text/plain": [
       "200"
      ]
     },
     "execution_count": 11,
     "metadata": {},
     "output_type": "execute_result"
    }
   ],
   "source": [
    "r.status_code"
   ]
  },
  {
   "cell_type": "code",
   "execution_count": 12,
   "id": "5f1d3c3b-212d-4c7a-80a1-ba9813438267",
   "metadata": {},
   "outputs": [
    {
     "data": {
      "text/plain": [
       "{'Content-Type': 'application/octet-stream', 'Content-Security-Policy': \"sandbox, default-src 'none', frame-ancestors 'none'\", 'X-Content-Security-Policy': 'sandbox', 'Cross-Origin-Opener-Policy': 'same-origin', 'Cross-Origin-Embedder-Policy': 'require-corp', 'Cross-Origin-Resource-Policy': 'same-site', 'X-Content-Type-Options': 'nosniff', 'Content-Disposition': 'attachment; filename=\"Photos.7z\"', 'Access-Control-Allow-Origin': '*', 'Access-Control-Allow-Credentials': 'false', 'Access-Control-Allow-Headers': 'Accept, Accept-Language, Authorization, Cache-Control, Content-Disposition, Content-Encoding, Content-Language, Content-Length, Content-MD5, Content-Range, Content-Type, Date, developer-token, financial-institution-id, X-Goog-Sn-Metadata, X-Goog-Sn-PatientId, GData-Version, google-cloud-resource-prefix, linked-customer-id, login-customer-id, x-goog-request-params, Host, If-Match, If-Modified-Since, If-None-Match, If-Unmodified-Since, Origin, OriginToken, Pragma, Range, request-id, Slug, Transfer-Encoding, hotrod-board-name, hotrod-chrome-cpu-model, hotrod-chrome-processors, Want-Digest, X-Ad-Manager-Impersonation, x-chrome-connected, X-ClientDetails, X-Client-Version, x-debug-settings-metadata, X-Firebase-Locale, X-Goog-Firebase-Installations-Auth, X-Firebase-Client, X-Firebase-Client-Log-Type, X-Firebase-GMPID, X-Firebase-Auth-Token, X-Firebase-AppCheck, X-Firebase-Token, X-Goog-Drive-Client-Version, X-Goog-Drive-Resource-Keys, X-GData-Client, X-GData-Key, X-GoogApps-Allowed-Domains, X-Goog-AdX-Buyer-Impersonation, X-Goog-Api-Client, X-Goog-Visibilities, X-Goog-AuthUser, X-Google-EOM, x-goog-ext-124712974-jspb, x-goog-ext-467253834-jspb, x-goog-ext-353267353-bin, x-goog-ext-353267353-jspb, x-goog-ext-251363160-jspb, x-goog-ext-259736195-jspb, x-goog-ext-477772811-jspb, x-goog-ext-359275022-bin, x-goog-ext-328800237-jspb, x-goog-ext-202735639-bin, x-goog-ext-223435598-bin, X-Goog-PageId, X-Goog-Encode-Response-If-Executable, X-Goog-Correlation-Id, X-Goog-Request-Info, X-Goog-Request-Reason, X-Goog-Request-Time, X-Goog-Experiments, x-goog-iam-authority-selector, x-goog-iam-authorization-token, X-Goog-Spatula, X-Goog-Travel-Bgr, X-Goog-Travel-Settings, X-Goog-Upload-Command, X-Goog-Upload-Content-Disposition, X-Goog-Upload-Content-Length, X-Goog-Upload-Content-Type, X-Goog-Upload-File-Name, X-Goog-Upload-Header-Content-Encoding, X-Goog-Upload-Header-Content-Length, X-Goog-Upload-Header-Content-Type, X-Goog-Upload-Header-Transfer-Encoding, X-Goog-Upload-Offset, X-Goog-Upload-Protocol, x-goog-user-project, X-Goog-Visitor-Id, X-Goog-FieldMask, X-Google-Project-Override, x-goog-maps-api-salt, x-goog-maps-api-signature, x-goog-maps-client-id, X-Goog-Api-Key, x-goog-spanner-database-role, X-HTTP-Method-Override, X-JavaScript-User-Agent, X-Pan-Versionid, X-Proxied-User-IP, X-Origin, X-Referer, X-Requested-With, X-Stadia-Client-Context, X-Upload-Content-Length, X-Upload-Content-Type, X-Use-Alt-Service, X-Use-HTTP-Status-Code-Override, X-Ios-Bundle-Identifier, X-Android-Package, X-Android-Cert, X-Goog-Maps-Ios-Uuid, X-Goog-Maps-Android-Uuid, X-Ariane-Xsrf-Token, X-YouTube-Bootstrap-Logged-In, X-YouTube-VVT, X-YouTube-Page-CL, X-YouTube-Page-Timestamp, X-Compass-Routing-Destination, x-framework-xsrf-token, X-Goog-Meeting-ABR, X-Goog-Meeting-Botguardid, X-Goog-Meeting-ClientInfo, X-Goog-Meeting-ClientVersion, X-Goog-Meeting-Debugid, X-Goog-Meeting-Identifier, X-Goog-Meeting-Interop-Cohorts, X-Goog-Meeting-Interop-Type, X-Goog-Meeting-OidcIdToken, X-Goog-Meeting-RtcClient, X-Goog-Meeting-StartSource, X-Goog-Meeting-Token, X-Goog-Meeting-Viewer-Token, X-Client-Data, x-sdm-id-token, X-Sfdc-Authorization, MIME-Version, Content-Transfer-Encoding, X-Earth-Engine-App-ID-Token, X-Earth-Engine-Computation-Profile, X-Earth-Engine-Computation-Profiling, X-Play-Console-Experiments-Override, X-Play-Console-Session-Id, x-alkali-account-key, x-alkali-application-key, x-alkali-auth-apps-namespace, x-alkali-auth-entities-namespace, x-alkali-auth-entity, x-alkali-client-locale, EES-S7E-MODE, cast-device-capabilities, X-Server-Timeout, x-foyer-client-environment, x-goog-greenenergyuserappservice-metadata, x-goog-sherlog-context, X-Server-Token, x-rfui-request-context, x-goog-nest-jwt, X-Cloud-Trace-Context, traceparent, x-goog-chat-space-id', 'Access-Control-Allow-Methods': 'GET,HEAD,OPTIONS', 'Accept-Ranges': 'bytes', 'Content-Length': '1423278', 'Last-Modified': 'Tue, 28 May 2024 07:37:58 GMT', 'X-GUploader-UploadID': 'ABPtcPogcn4_TY7Xi66DlbZ6P8kxKjNMiwWPrZDXYss0V_ZuWfmCcb_95oGYZcz0hcZWYBUdhg', 'Date': 'Tue, 28 May 2024 08:14:27 GMT', 'Expires': 'Tue, 28 May 2024 08:14:27 GMT', 'Cache-Control': 'private, max-age=0', 'X-Goog-Hash': 'crc32c=xNSasQ==', 'Server': 'UploadServer', 'Alt-Svc': 'h3=\":443\"; ma=2592000,h3-29=\":443\"; ma=2592000'}"
      ]
     },
     "execution_count": 12,
     "metadata": {},
     "output_type": "execute_result"
    }
   ],
   "source": [
    "r.headers"
   ]
  },
  {
   "cell_type": "code",
   "execution_count": 13,
   "id": "a6e750a6-8632-4b0a-b7dc-c018bf7822e7",
   "metadata": {},
   "outputs": [
    {
     "data": {
      "text/plain": [
       "'application/octet-stream'"
      ]
     },
     "execution_count": 13,
     "metadata": {},
     "output_type": "execute_result"
    }
   ],
   "source": [
    "r.headers['Content-Type']"
   ]
  },
  {
   "cell_type": "code",
   "execution_count": 21,
   "id": "1ec4abf5-48eb-43a5-bd5c-70de70edb85a",
   "metadata": {},
   "outputs": [],
   "source": [
    "archive_filename = 'data/photos.7z'\n",
    "with open(archive_filename, mode='wb') as f:\n",
    "    f.write(r.content)\n",
    "# auto: f.close()"
   ]
  },
  {
   "cell_type": "code",
   "execution_count": 22,
   "id": "09f23e4c-8680-4eef-bf7e-c69bab96771c",
   "metadata": {
    "collapsed": true,
    "jupyter": {
     "outputs_hidden": true
    },
    "scrolled": true
   },
   "outputs": [
    {
     "data": {
      "text/plain": [
       "\u001b[1;31mSignature:\u001b[0m\n",
       "\u001b[0mpy7zr\u001b[0m\u001b[1;33m.\u001b[0m\u001b[0mSevenZipFile\u001b[0m\u001b[1;33m.\u001b[0m\u001b[0mextractall\u001b[0m\u001b[1;33m(\u001b[0m\u001b[1;33m\n",
       "\u001b[0m    \u001b[0mself\u001b[0m\u001b[1;33m,\u001b[0m\u001b[1;33m\n",
       "\u001b[0m    \u001b[0mpath\u001b[0m\u001b[1;33m:\u001b[0m \u001b[0mOptional\u001b[0m\u001b[1;33m[\u001b[0m\u001b[0mAny\u001b[0m\u001b[1;33m]\u001b[0m \u001b[1;33m=\u001b[0m \u001b[1;32mNone\u001b[0m\u001b[1;33m,\u001b[0m\u001b[1;33m\n",
       "\u001b[0m    \u001b[0mcallback\u001b[0m\u001b[1;33m:\u001b[0m \u001b[0mOptional\u001b[0m\u001b[1;33m[\u001b[0m\u001b[0mpy7zr\u001b[0m\u001b[1;33m.\u001b[0m\u001b[0mcallbacks\u001b[0m\u001b[1;33m.\u001b[0m\u001b[0mExtractCallback\u001b[0m\u001b[1;33m]\u001b[0m \u001b[1;33m=\u001b[0m \u001b[1;32mNone\u001b[0m\u001b[1;33m,\u001b[0m\u001b[1;33m\n",
       "\u001b[0m\u001b[1;33m)\u001b[0m \u001b[1;33m->\u001b[0m \u001b[1;32mNone\u001b[0m\u001b[1;33m\u001b[0m\u001b[1;33m\u001b[0m\u001b[0m\n",
       "\u001b[1;31mDocstring:\u001b[0m\n",
       "Extract all members from the archive to the current working\n",
       "directory and set owner, modification time and permissions on\n",
       "directories afterwards. ``path`` specifies a different directory\n",
       "to extract to.\n",
       "\u001b[1;31mFile:\u001b[0m      c:\\users\\matthias\\anaconda3\\envs\\env312\\lib\\site-packages\\py7zr\\py7zr.py\n",
       "\u001b[1;31mType:\u001b[0m      function"
      ]
     },
     "metadata": {},
     "output_type": "display_data"
    }
   ],
   "source": [
    "py7zr.SevenZipFile.extractall?"
   ]
  },
  {
   "cell_type": "code",
   "execution_count": 25,
   "id": "1ebb7100-adfb-42c2-9223-62a35bde70da",
   "metadata": {},
   "outputs": [
    {
     "data": {
      "text/plain": [
       "WindowsPath('data/photos.7z')"
      ]
     },
     "execution_count": 25,
     "metadata": {},
     "output_type": "execute_result"
    }
   ],
   "source": [
    "archive_path = Path(archive_filename)\n",
    "archive_path"
   ]
  },
  {
   "cell_type": "code",
   "execution_count": 26,
   "id": "f9689dcf-de65-40ac-b92c-457e974f0c54",
   "metadata": {},
   "outputs": [
    {
     "name": "stdout",
     "output_type": "stream",
     "text": [
      "data\\photos.7z\n"
     ]
    }
   ],
   "source": [
    "print(archive_path)"
   ]
  },
  {
   "cell_type": "code",
   "execution_count": 27,
   "id": "42b6b331-624e-4b1d-bab5-30821b214d95",
   "metadata": {},
   "outputs": [
    {
     "data": {
      "text/plain": [
       "True"
      ]
     },
     "execution_count": 27,
     "metadata": {},
     "output_type": "execute_result"
    }
   ],
   "source": [
    "archive_path.exists()"
   ]
  },
  {
   "cell_type": "code",
   "execution_count": 28,
   "id": "48490ce5-6f4b-437a-8321-e73c1e232f3b",
   "metadata": {},
   "outputs": [
    {
     "data": {
      "text/plain": [
       "WindowsPath('C:/Users/Matthias/Documents/Formations/Python/StagePOE/data/photos.7z')"
      ]
     },
     "execution_count": 28,
     "metadata": {},
     "output_type": "execute_result"
    }
   ],
   "source": [
    "archive_path.absolute()"
   ]
  },
  {
   "cell_type": "code",
   "execution_count": 31,
   "id": "2fe3ad5c-5f7f-4493-9a89-4186783aaa81",
   "metadata": {},
   "outputs": [
    {
     "data": {
      "text/plain": [
       "(True, False)"
      ]
     },
     "execution_count": 31,
     "metadata": {},
     "output_type": "execute_result"
    }
   ],
   "source": [
    "archive_path.is_file(), \\\n",
    "archive_path.is_dir()"
   ]
  },
  {
   "cell_type": "code",
   "execution_count": 32,
   "id": "73e26daf-9e04-455b-b7ce-4109dda17d12",
   "metadata": {},
   "outputs": [
    {
     "data": {
      "text/plain": [
       "WindowsPath('data')"
      ]
     },
     "execution_count": 32,
     "metadata": {},
     "output_type": "execute_result"
    }
   ],
   "source": [
    "archive_path.parent"
   ]
  },
  {
   "cell_type": "code",
   "execution_count": 34,
   "id": "eba31b6c-5cb2-49b0-97f6-fe7e6ec69aaf",
   "metadata": {},
   "outputs": [
    {
     "name": "stdout",
     "output_type": "stream",
     "text": [
      "C:\\Users\\Matthias\\Documents\\Formations\\Python\\StagePOE\\data\n",
      "C:\\Users\\Matthias\\Documents\\Formations\\Python\\StagePOE\n",
      "C:\\Users\\Matthias\\Documents\\Formations\\Python\n",
      "C:\\Users\\Matthias\\Documents\\Formations\n",
      "C:\\Users\\Matthias\\Documents\n",
      "C:\\Users\\Matthias\n",
      "C:\\Users\n",
      "C:\\\n"
     ]
    }
   ],
   "source": [
    "for p in archive_path.absolute().parents:\n",
    "    print(p)"
   ]
  },
  {
   "cell_type": "code",
   "execution_count": 36,
   "id": "79c7cfa8-4b1b-43e4-9f55-c3c196618690",
   "metadata": {},
   "outputs": [],
   "source": [
    "with py7zr.SevenZipFile(archive_path, mode='r') as arc:\n",
    "    arc.extractall(path=archive_path.parent)"
   ]
  },
  {
   "cell_type": "code",
   "execution_count": 38,
   "id": "791901e1-beda-44e9-908e-a9a32c093f27",
   "metadata": {},
   "outputs": [
    {
     "name": "stdout",
     "output_type": "stream",
     "text": [
      "data\\Photos\\Set1\n",
      "True\n",
      "True\n"
     ]
    }
   ],
   "source": [
    "photo_dir = archive_path.parent / 'Photos' / 'Set1'\n",
    "print(photo_dir)\n",
    "print(photo_dir.exists())\n",
    "print(photo_dir.is_dir())"
   ]
  },
  {
   "cell_type": "code",
   "execution_count": 40,
   "id": "77f66857-157e-4513-8772-2bdb31f63f46",
   "metadata": {},
   "outputs": [
    {
     "name": "stdout",
     "output_type": "stream",
     "text": [
      "data\\Photos\\Set1\\IMG_20200711_090914.jpg\n",
      "data\\Photos\\Set1\\IMG_20200711_110837.jpg\n",
      "data\\Photos\\Set1\\IMG_20200711_120450.jpg\n",
      "data\\Photos\\Set1\\IMG_20200731_112734.jpg\n",
      "data\\Photos\\Set1\\IMG_20200731_124909.jpg\n",
      "data\\Photos\\Set1\\IMG_20200731_124939.jpg\n",
      "data\\Photos\\Set1\\IMG_20200731_134742.jpg\n",
      "data\\Photos\\Set1\\IMG_20200809_101205.jpg\n",
      "data\\Photos\\Set1\\IMG_20200809_111130.jpg\n",
      "data\\Photos\\Set1\\IMG_20200809_124231.jpg\n",
      "data\\Photos\\Set1\\IMG_20200809_125816.jpg\n",
      "data\\Photos\\Set1\\IMG_20200821_104500.jpg\n",
      "data\\Photos\\Set1\\IMG_20200905_113751.jpg\n",
      "data\\Photos\\Set1\\IMG_20200913_192604.jpg\n",
      "data\\Photos\\Set1\\IMG_20200927_122751.jpg\n",
      "data\\Photos\\Set1\\IMG_20200927_131116.jpg\n",
      "data\\Photos\\Set1\\IMG_20200927_152228.jpg\n",
      "data\\Photos\\Set1\\IMG_20201024_155325.jpg\n"
     ]
    }
   ],
   "source": [
    "for f in photo_dir.iterdir():\n",
    "    print(f)"
   ]
  },
  {
   "cell_type": "code",
   "execution_count": 41,
   "id": "39d21c70-a280-4b1f-85a9-b0880da9cb3d",
   "metadata": {},
   "outputs": [
    {
     "name": "stdout",
     "output_type": "stream",
     "text": [
      "data\\Photos\\Set1\\IMG_20200711_090914.jpg\n",
      "data\\Photos\\Set1\\IMG_20200711_110837.jpg\n",
      "data\\Photos\\Set1\\IMG_20200711_120450.jpg\n",
      "data\\Photos\\Set1\\IMG_20200731_112734.jpg\n",
      "data\\Photos\\Set1\\IMG_20200731_124909.jpg\n",
      "data\\Photos\\Set1\\IMG_20200731_124939.jpg\n",
      "data\\Photos\\Set1\\IMG_20200731_134742.jpg\n",
      "data\\Photos\\Set1\\IMG_20200809_101205.jpg\n",
      "data\\Photos\\Set1\\IMG_20200809_111130.jpg\n",
      "data\\Photos\\Set1\\IMG_20200809_124231.jpg\n",
      "data\\Photos\\Set1\\IMG_20200809_125816.jpg\n",
      "data\\Photos\\Set1\\IMG_20200821_104500.jpg\n",
      "data\\Photos\\Set1\\IMG_20200905_113751.jpg\n",
      "data\\Photos\\Set1\\IMG_20200913_192604.jpg\n",
      "data\\Photos\\Set1\\IMG_20200927_122751.jpg\n",
      "data\\Photos\\Set1\\IMG_20200927_131116.jpg\n",
      "data\\Photos\\Set1\\IMG_20200927_152228.jpg\n",
      "data\\Photos\\Set1\\IMG_20201024_155325.jpg\n"
     ]
    }
   ],
   "source": [
    "for f in photo_dir.glob(\"*.jpg\"):\n",
    "    print(f)"
   ]
  },
  {
   "cell_type": "code",
   "execution_count": 43,
   "id": "30b8364d-82e1-4690-b50e-c61ef3630405",
   "metadata": {},
   "outputs": [
    {
     "name": "stdout",
     "output_type": "stream",
     "text": [
      "data\\Photos\\Set1\\IMG_20200711_090914.jpg\n",
      "data\\Photos\\Set1\\IMG_20200711_110837.jpg\n",
      "data\\Photos\\Set1\\IMG_20200711_120450.jpg\n",
      "data\\Photos\\Set1\\IMG_20200731_112734.jpg\n",
      "data\\Photos\\Set1\\IMG_20200731_124909.jpg\n",
      "data\\Photos\\Set1\\IMG_20200731_124939.jpg\n",
      "data\\Photos\\Set1\\IMG_20200731_134742.jpg\n",
      "data\\Photos\\Set1\\IMG_20200809_101205.jpg\n",
      "data\\Photos\\Set1\\IMG_20200809_111130.jpg\n",
      "data\\Photos\\Set1\\IMG_20200809_124231.jpg\n",
      "data\\Photos\\Set1\\IMG_20200809_125816.jpg\n",
      "data\\Photos\\Set1\\IMG_20200821_104500.jpg\n",
      "data\\Photos\\Set1\\IMG_20200905_113751.jpg\n",
      "data\\Photos\\Set1\\IMG_20200913_192604.jpg\n",
      "data\\Photos\\Set1\\IMG_20200927_122751.jpg\n",
      "data\\Photos\\Set1\\IMG_20200927_131116.jpg\n",
      "data\\Photos\\Set1\\IMG_20200927_152228.jpg\n",
      "data\\Photos\\Set1\\IMG_20201024_155325.jpg\n",
      "data\\Photos\\Set2\\IMG_20200821_104500.jpg\n",
      "data\\Photos\\Set2\\IMG_20200821_112947.jpg\n",
      "data\\Photos\\Set2\\IMG_20200823_120734.jpg\n",
      "data\\Photos\\Set2\\IMG_20200823_123302.jpg\n",
      "data\\Photos\\Set2\\IMG_20200823_125206.jpg\n",
      "data\\Photos\\Set2\\IMG_20200905_113751.jpg\n",
      "data\\Photos\\Set2\\IMG_20200905_114619.jpg\n",
      "data\\Photos\\Set2\\IMG_20200905_124848.jpg\n",
      "data\\Photos\\Set2\\IMG_20200905_125209.jpg\n",
      "data\\Photos\\Set2\\IMG_20200913_192604.jpg\n",
      "data\\Photos\\Set2\\IMG_20200913_200240.jpg\n",
      "data\\Photos\\Set2\\IMG_20200913_201318.jpg\n",
      "data\\Photos\\Set2\\IMG_20200927_122751.jpg\n",
      "data\\Photos\\Set2\\IMG_20200927_131116.jpg\n",
      "data\\Photos\\Set2\\IMG_20200927_132629.jpg\n",
      "data\\Photos\\Set2\\IMG_20200927_140349.jpg\n",
      "data\\Photos\\Set2\\IMG_20200927_142109.jpg\n",
      "data\\Photos\\Set2\\IMG_20200927_145738.jpg\n",
      "data\\Photos\\Set2\\IMG_20200927_150306.jpg\n",
      "data\\Photos\\Set2\\IMG_20200927_152228.jpg\n",
      "data\\Photos\\Set2\\IMG_20201018_123159.jpg\n",
      "data\\Photos\\Set2\\IMG_20201024_151252.jpg\n",
      "data\\Photos\\Set2\\IMG_20201024_153828.jpg\n",
      "data\\Photos\\Set2\\IMG_20201024_155307.jpg\n",
      "data\\Photos\\Set2\\IMG_20201024_155325.jpg\n"
     ]
    }
   ],
   "source": [
    "for f in photo_dir.parent.glob(\"**/*.jpg\"):\n",
    "    print(f)"
   ]
  },
  {
   "cell_type": "markdown",
   "id": "c4d2e550-3a67-4a59-a63f-94b9a81bc403",
   "metadata": {},
   "source": [
    "Exo: \n",
    "- list all photos (jpeg) in photo_dir with:\n",
    "     - filename\n",
    "     - file size\n",
    "     -  date (last modified)\n",
    "- choose a dest_dir to classify the photos\n",
    "- move each photo to dest_dir in a sub-directory according to tag date: year/month/day\n",
    "- if photo already exists => warning + did not move"
   ]
  },
  {
   "cell_type": "code",
   "execution_count": 57,
   "id": "e8bbb89e-da8c-46d1-ab90-cee4abff32a5",
   "metadata": {},
   "outputs": [
    {
     "name": "stdout",
     "output_type": "stream",
     "text": [
      "Photos of directory: data\\Photos\\Set1\n",
      "\t- IMG_20200711_090914.jpg: size=48083 bytes, last modified=28/05/2024 09:34\n",
      "\t- IMG_20200711_110837.jpg: size=43470 bytes, last modified=28/05/2024 09:34\n",
      "\t- IMG_20200711_120450.jpg: size=49669 bytes, last modified=28/05/2024 09:34\n",
      "\t- IMG_20200731_112734.jpg: size=30569 bytes, last modified=28/05/2024 09:34\n",
      "\t- IMG_20200731_124909.jpg: size=44207 bytes, last modified=28/05/2024 09:34\n",
      "\t- IMG_20200731_124939.jpg: size=41638 bytes, last modified=28/05/2024 09:34\n",
      "\t- IMG_20200731_134742.jpg: size=42858 bytes, last modified=28/05/2024 09:34\n",
      "\t- IMG_20200809_101205.jpg: size=34288 bytes, last modified=28/05/2024 09:34\n",
      "\t- IMG_20200809_111130.jpg: size=53158 bytes, last modified=28/05/2024 09:34\n",
      "\t- IMG_20200809_124231.jpg: size=43830 bytes, last modified=28/05/2024 09:34\n",
      "\t- IMG_20200809_125816.jpg: size=47736 bytes, last modified=28/05/2024 09:34\n",
      "\t- IMG_20200821_104500.jpg: size=42500 bytes, last modified=28/05/2024 09:34\n",
      "\t- IMG_20200905_113751.jpg: size=39631 bytes, last modified=28/05/2024 09:34\n",
      "\t- IMG_20200913_192604.jpg: size=24068 bytes, last modified=28/05/2024 09:34\n",
      "\t- IMG_20200927_122751.jpg: size=66832 bytes, last modified=28/05/2024 09:34\n",
      "\t- IMG_20200927_131116.jpg: size=43021 bytes, last modified=28/05/2024 09:34\n",
      "\t- IMG_20200927_152228.jpg: size=35068 bytes, last modified=28/05/2024 09:34\n",
      "\t- IMG_20201024_155325.jpg: size=33543 bytes, last modified=28/05/2024 09:34\n"
     ]
    }
   ],
   "source": [
    "print(\"Photos of directory:\", photo_dir)\n",
    "for f in photo_dir.glob(\"*.jpg\"):\n",
    "    stats = f.stat()\n",
    "    last_mofied = datetime.fromtimestamp(stats.st_mtime)\n",
    "    print(f\"\\t- {f.name}: size={stats.st_size} bytes, last modified={last_mofied:%d/%m/%Y %H:%M}\")"
   ]
  },
  {
   "cell_type": "code",
   "execution_count": 58,
   "id": "444c6618-fff7-4f3d-8f49-ddab30dc6b35",
   "metadata": {
    "collapsed": true,
    "jupyter": {
     "outputs_hidden": true
    }
   },
   "outputs": [
    {
     "data": {
      "text/plain": [
       "54.441959689931906"
      ]
     },
     "execution_count": 58,
     "metadata": {},
     "output_type": "execute_result"
    }
   ],
   "source": [
    "# conver a timestamp approximately in years\n",
    "1716881640.7816925 /3600 / 24 / 365"
   ]
  },
  {
   "cell_type": "code",
   "execution_count": 73,
   "id": "e6d16161-9285-43ee-baeb-4ae53dc8e64b",
   "metadata": {},
   "outputs": [],
   "source": [
    "# photo_dir = Path('data/Photos/Set1')\n",
    "photo_dir = Path('data/Photos/Set2')"
   ]
  },
  {
   "cell_type": "code",
   "execution_count": 75,
   "id": "f0f5fe22-1c8c-425c-8d7d-aa0e7409f3a0",
   "metadata": {},
   "outputs": [
    {
     "name": "stdout",
     "output_type": "stream",
     "text": [
      "Skip: IMG_20200821_104500.jpg (already exists)\n",
      "Skip: IMG_20200905_113751.jpg (already exists)\n",
      "Skip: IMG_20200913_192604.jpg (already exists)\n",
      "Skip: IMG_20200927_122751.jpg (already exists)\n",
      "Skip: IMG_20200927_131116.jpg (already exists)\n",
      "Skip: IMG_20200927_152228.jpg (already exists)\n",
      "Skip: IMG_20201024_155325.jpg (already exists)\n",
      "Summary: moved=18, skipped=7\n"
     ]
    }
   ],
   "source": [
    "dest_dir = Path('photos')\n",
    "cpt_ok = 0\n",
    "cpt_ko = 0\n",
    "for photo_src_path in photo_dir.glob(\"*.jpg\"):\n",
    "    tag_date = photo_src_path.name[4:12]\n",
    "    year = tag_date[:4]\n",
    "    month = tag_date[4:6]\n",
    "    day = tag_date[6:]\n",
    "    # print(year, month, day)\n",
    "    photo_dest_dir = dest_dir / year / month / day\n",
    "    photo_dest_dir.mkdir(parents=True, exist_ok=True)\n",
    "    photo_dest_path = photo_dest_dir / photo_src_path.name\n",
    "    # print(photo_dest_path)\n",
    "    if photo_dest_path.exists():\n",
    "        print(f\"Skip: {photo_dest_path.name} (already exists)\")\n",
    "        cpt_ko += 1\n",
    "        continue\n",
    "    photo_src_path.rename(photo_dest_path)\n",
    "    cpt_ok += 1\n",
    "print(f'Summary: moved={cpt_ok}, skipped={cpt_ko}')"
   ]
  },
  {
   "cell_type": "markdown",
   "id": "55051c72-9029-4f63-94ba-7df909095ac6",
   "metadata": {},
   "source": [
    "## Data Exif"
   ]
  },
  {
   "cell_type": "code",
   "execution_count": 79,
   "id": "84ce4324-f2a8-4dc3-9a08-fb61cf4aac8c",
   "metadata": {},
   "outputs": [],
   "source": [
    "photo_path = Path('data/Photos/Set2/IMG_20200821_104500.jpg')"
   ]
  },
  {
   "cell_type": "markdown",
   "id": "fc61a52d-e5f0-4cab-b4fb-cfd3a29ed77c",
   "metadata": {},
   "source": [
    "### module exif"
   ]
  },
  {
   "cell_type": "code",
   "execution_count": 80,
   "id": "cf00b39c-8fb4-4ff3-bdbe-99b6d097f806",
   "metadata": {},
   "outputs": [
    {
     "data": {
      "text/plain": [
       "True"
      ]
     },
     "execution_count": 80,
     "metadata": {},
     "output_type": "execute_result"
    }
   ],
   "source": [
    "with open(photo_path, mode='rb') as photo_file:\n",
    "    image = exif.Image(photo_file)\n",
    "image.has_exif"
   ]
  },
  {
   "cell_type": "code",
   "execution_count": 83,
   "id": "49cea457-2991-4874-bf85-1404f4f00a18",
   "metadata": {},
   "outputs": [
    {
     "data": {
      "text/plain": [
       "['_exif_ifd_pointer',\n",
       " '_gps_ifd_pointer',\n",
       " '_interoperability_ifd_Pointer',\n",
       " 'aperture_value',\n",
       " 'brightness_value',\n",
       " 'color_space',\n",
       " 'components_configuration',\n",
       " 'compression',\n",
       " 'datetime',\n",
       " 'datetime_digitized',\n",
       " 'datetime_original',\n",
       " 'exif_version',\n",
       " 'exposure_mode',\n",
       " 'exposure_program',\n",
       " 'exposure_time',\n",
       " 'f_number',\n",
       " 'flash',\n",
       " 'flashpix_version',\n",
       " 'focal_length',\n",
       " 'focal_length_in_35mm_film',\n",
       " 'jpeg_interchange_format',\n",
       " 'jpeg_interchange_format_length',\n",
       " 'make',\n",
       " 'metering_mode',\n",
       " 'model',\n",
       " 'orientation',\n",
       " 'photographic_sensitivity',\n",
       " 'pixel_x_dimension',\n",
       " 'pixel_y_dimension',\n",
       " 'resolution_unit',\n",
       " 'scene_capture_type',\n",
       " 'scene_type',\n",
       " 'sensing_method',\n",
       " 'shutter_speed_value',\n",
       " 'software',\n",
       " 'subsec_time',\n",
       " 'subsec_time_digitized',\n",
       " 'subsec_time_original',\n",
       " 'white_balance',\n",
       " 'x_resolution',\n",
       " 'y_and_c_positioning',\n",
       " 'y_resolution']"
      ]
     },
     "execution_count": 83,
     "metadata": {},
     "output_type": "execute_result"
    }
   ],
   "source": [
    "sorted(image.list_all())"
   ]
  },
  {
   "cell_type": "code",
   "execution_count": 82,
   "id": "2717bd50-b343-4855-bed5-79e84fffb224",
   "metadata": {},
   "outputs": [
    {
     "data": {
      "text/plain": [
       "'2020:08:21 10:45:01'"
      ]
     },
     "execution_count": 82,
     "metadata": {},
     "output_type": "execute_result"
    }
   ],
   "source": [
    "image.get('datetime_original')"
   ]
  },
  {
   "cell_type": "code",
   "execution_count": 84,
   "id": "c23f8a4f-57c3-41a8-b44c-53c9acba4dad",
   "metadata": {},
   "outputs": [
    {
     "data": {
      "text/plain": [
       "'2020:08:21 10:45:01'"
      ]
     },
     "execution_count": 84,
     "metadata": {},
     "output_type": "execute_result"
    }
   ],
   "source": [
    "image.datetime_original"
   ]
  },
  {
   "cell_type": "code",
   "execution_count": 85,
   "id": "122daf1d-3f10-42c4-8244-941ba71c0e4b",
   "metadata": {},
   "outputs": [
    {
     "data": {
      "text/plain": [
       "(400, 300)"
      ]
     },
     "execution_count": 85,
     "metadata": {},
     "output_type": "execute_result"
    }
   ],
   "source": [
    "image.pixel_x_dimension, image.pixel_y_dimension"
   ]
  },
  {
   "cell_type": "code",
   "execution_count": 86,
   "id": "a9baf34c-28bd-4535-9fb4-21975c910af2",
   "metadata": {},
   "outputs": [
    {
     "data": {
      "text/plain": [
       "'Redmi Note 8T'"
      ]
     },
     "execution_count": 86,
     "metadata": {},
     "output_type": "execute_result"
    }
   ],
   "source": [
    "image.model"
   ]
  },
  {
   "cell_type": "markdown",
   "id": "ed32c37e-8e65-4ef7-8567-82864224f6a0",
   "metadata": {},
   "source": [
    "### module exifread"
   ]
  },
  {
   "cell_type": "code",
   "execution_count": 87,
   "id": "1a251573-74b8-40da-aa4b-9365e5f7fbfe",
   "metadata": {},
   "outputs": [],
   "source": [
    "with open(photo_path, mode='rb') as photo_file:\n",
    "    tags= exifread.process_file(photo_file)"
   ]
  },
  {
   "cell_type": "code",
   "execution_count": 89,
   "id": "6dbc9d6e-d705-41f0-b1e9-510ab218d847",
   "metadata": {},
   "outputs": [
    {
     "data": {
      "text/plain": [
       "dict_keys(['Image Model', 'Image Software', 'Image Orientation', 'Image DateTime', 'Image YCbCrPositioning', 'Image ExifOffset', 'Image ResolutionUnit', 'Image GPSInfo', 'Image XResolution', 'Image YResolution', 'Image Make', 'Thumbnail JPEGInterchangeFormat', 'Thumbnail Orientation', 'Thumbnail JPEGInterchangeFormatLength', 'Thumbnail Compression', 'Thumbnail ResolutionUnit', 'Thumbnail XResolution', 'Thumbnail YResolution', 'EXIF ISOSpeedRatings', 'EXIF ExposureProgram', 'EXIF FNumber', 'EXIF ExposureTime', 'EXIF Tag 0x9999', 'EXIF SensingMethod', 'EXIF Tag 0x8895', 'EXIF SubSecTimeDigitized', 'EXIF SubSecTimeOriginal', 'EXIF SubSecTime', 'EXIF FocalLength', 'EXIF Flash', 'EXIF MeteringMode', 'EXIF SceneCaptureType', 'Interoperability InteroperabilityIndex', 'Interoperability InteroperabilityVersion', 'EXIF InteroperabilityOffset', 'EXIF FocalLengthIn35mmFilm', 'EXIF DateTimeDigitized', 'EXIF ExifImageLength', 'EXIF WhiteBalance', 'EXIF DateTimeOriginal', 'EXIF BrightnessValue', 'EXIF ExifImageWidth', 'EXIF ExposureMode', 'EXIF ApertureValue', 'EXIF ComponentsConfiguration', 'EXIF ColorSpace', 'EXIF SceneType', 'EXIF ShutterSpeedValue', 'EXIF ExifVersion', 'EXIF FlashPixVersion', 'JPEGThumbnail'])"
      ]
     },
     "execution_count": 89,
     "metadata": {},
     "output_type": "execute_result"
    }
   ],
   "source": [
    "tags.keys()"
   ]
  },
  {
   "cell_type": "code",
   "execution_count": 94,
   "id": "730da719-d48c-42a7-a6f1-78765c88c6a8",
   "metadata": {},
   "outputs": [
    {
     "data": {
      "text/plain": [
       "((0xA003) Long=300 @ 478, (0xA002) Long=400 @ 526)"
      ]
     },
     "execution_count": 94,
     "metadata": {},
     "output_type": "execute_result"
    }
   ],
   "source": [
    "tags.get('EXIF ExifImageLength'), tags.get('EXIF ExifImageWidth')"
   ]
  },
  {
   "cell_type": "code",
   "execution_count": 95,
   "id": "d9c226e8-2c99-4f5a-a4d8-49aa0ca8abd7",
   "metadata": {},
   "outputs": [
    {
     "data": {
      "text/plain": [
       "(0x9003) ASCII=2020:08:21 10:45:01 @ 773"
      ]
     },
     "execution_count": 95,
     "metadata": {},
     "output_type": "execute_result"
    }
   ],
   "source": [
    "tags.get('EXIF DateTimeOriginal')"
   ]
  },
  {
   "cell_type": "markdown",
   "id": "776e5994-0d2f-412a-a7e9-b5b7626572bd",
   "metadata": {},
   "source": [
    "## Pillow: Image Processing"
   ]
  },
  {
   "cell_type": "code",
   "execution_count": 102,
   "id": "f3dbb8ef-ead2-40be-945e-b4b946db09bf",
   "metadata": {},
   "outputs": [],
   "source": [
    "from PIL import Image"
   ]
  },
  {
   "cell_type": "code",
   "execution_count": 103,
   "id": "e5518001-188b-46b9-9e10-cf4c250b3a9b",
   "metadata": {},
   "outputs": [
    {
     "data": {
      "image/jpeg": "[encoded data removed]",
      "image/png": "[encoded data removed]",
      "text/plain": [
       "<PIL.JpegImagePlugin.JpegImageFile image mode=RGB size=400x300>"
      ]
     },
     "execution_count": 103,
     "metadata": {},
     "output_type": "execute_result"
    }
   ],
   "source": [
    "image =Image.open(photo_path)\n",
    "image"
   ]
  }
 ],
 "metadata": {
  "kernelspec": {
   "display_name": "k312",
   "language": "python",
   "name": "k312"
  },
  "language_info": {
   "codemirror_mode": {
    "name": "ipython",
    "version": 3
   },
   "file_extension": ".py",
   "mimetype": "text/x-python",
   "name": "python",
   "nbconvert_exporter": "python",
   "pygments_lexer": "ipython3",
   "version": "3.12.1"
  }
 },
 "nbformat": 4,
 "nbformat_minor": 5
}
