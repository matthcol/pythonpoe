{
 "cells": [
  {
   "cell_type": "markdown",
   "id": "2d80b826-a03d-42b8-9192-5a59d653b299",
   "metadata": {},
   "source": [
    "# Recap Python"
   ]
  },
  {
   "cell_type": "code",
   "execution_count": 1,
   "id": "f505e033-efc9-4d56-8594-70f326384abb",
   "metadata": {},
   "outputs": [],
   "source": [
    "list_cities = [\n",
    "    \"Toulouse\",\n",
    "    \"東京\",\n",
    "    \"Pau\",\n",
    "    \"Tournefeuille\",\n",
    "    \"Blagnac\",\n",
    "]\n",
    "tuple_city = \"Toulouse\", \"31000\", 477000\n",
    "dict_city = {\n",
    "    \"name\": \"Toulouse\",\n",
    "    \"zipcode\": \"31000\", \n",
    "    \"population\": 477000,\n",
    "}    "
   ]
  },
  {
   "cell_type": "code",
   "execution_count": 2,
   "id": "a735d0d2-2f12-4cae-8142-a7a72c8ece27",
   "metadata": {},
   "outputs": [
    {
     "name": "stdout",
     "output_type": "stream",
     "text": [
      "['Toulouse', '東京', 'Pau', 'Tournefeuille', 'Blagnac']\n",
      "\t- length: 5\n",
      "\n",
      "('Toulouse', '31000', 477000)\n",
      "\t- length: 3\n",
      "\n",
      "{'name': 'Toulouse', 'zipcode': '31000', 'population': 477000}\n",
      "\t- length: 3\n",
      "\n"
     ]
    }
   ],
   "source": [
    "for o in list_cities, tuple_city, dict_city:\n",
    "    print(o)\n",
    "    print(\"\\t- length:\", len(o))\n",
    "    print()"
   ]
  },
  {
   "cell_type": "code",
   "execution_count": 3,
   "id": "cfd092c6-aaee-44c5-9eca-b0ba53b46a0d",
   "metadata": {},
   "outputs": [
    {
     "data": {
      "text/plain": [
       "'Toulouse'"
      ]
     },
     "execution_count": 3,
     "metadata": {},
     "output_type": "execute_result"
    }
   ],
   "source": [
    "list_cities[0]"
   ]
  },
  {
   "cell_type": "code",
   "execution_count": 4,
   "id": "5997ab79-3a81-4c2c-9519-817d6cd4ceb0",
   "metadata": {},
   "outputs": [
    {
     "data": {
      "text/plain": [
       "'Blagnac'"
      ]
     },
     "execution_count": 4,
     "metadata": {},
     "output_type": "execute_result"
    }
   ],
   "source": [
    "list_cities[-1]"
   ]
  },
  {
   "cell_type": "code",
   "execution_count": 5,
   "id": "c5ddccad-e334-4f6b-9f66-57771e0fa264",
   "metadata": {},
   "outputs": [
    {
     "data": {
      "text/plain": [
       "'Toulouse'"
      ]
     },
     "execution_count": 5,
     "metadata": {},
     "output_type": "execute_result"
    }
   ],
   "source": [
    "tuple_city[0]"
   ]
  },
  {
   "cell_type": "code",
   "execution_count": 6,
   "id": "541b422a-1ebb-4231-8b5e-672e54ccedd7",
   "metadata": {},
   "outputs": [],
   "source": [
    "# TypeError: 'tuple' object does not support item assignment\n",
    "# tuple_city[2] += 1"
   ]
  },
  {
   "cell_type": "code",
   "execution_count": 7,
   "id": "bda42137-1835-4408-ada0-2791592b9df8",
   "metadata": {},
   "outputs": [
    {
     "data": {
      "text/plain": [
       "\u001b[1;31mSignature:\u001b[0m \u001b[0mlist_cities\u001b[0m\u001b[1;33m.\u001b[0m\u001b[0mappend\u001b[0m\u001b[1;33m(\u001b[0m\u001b[0mobject\u001b[0m\u001b[1;33m,\u001b[0m \u001b[1;33m/\u001b[0m\u001b[1;33m)\u001b[0m\u001b[1;33m\u001b[0m\u001b[1;33m\u001b[0m\u001b[0m\n",
       "\u001b[1;31mDocstring:\u001b[0m Append object to the end of the list.\n",
       "\u001b[1;31mType:\u001b[0m      builtin_function_or_method"
      ]
     },
     "metadata": {},
     "output_type": "display_data"
    }
   ],
   "source": [
    "list_cities.append?"
   ]
  },
  {
   "cell_type": "code",
   "execution_count": 8,
   "id": "6ee89c3c-c10e-44b5-bfea-dacff0806812",
   "metadata": {},
   "outputs": [
    {
     "data": {
      "text/plain": [
       "\u001b[1;31mSignature:\u001b[0m \u001b[0mlist_cities\u001b[0m\u001b[1;33m.\u001b[0m\u001b[0mextend\u001b[0m\u001b[1;33m(\u001b[0m\u001b[0miterable\u001b[0m\u001b[1;33m,\u001b[0m \u001b[1;33m/\u001b[0m\u001b[1;33m)\u001b[0m\u001b[1;33m\u001b[0m\u001b[1;33m\u001b[0m\u001b[0m\n",
       "\u001b[1;31mDocstring:\u001b[0m Extend list by appending elements from the iterable.\n",
       "\u001b[1;31mType:\u001b[0m      builtin_function_or_method"
      ]
     },
     "metadata": {},
     "output_type": "display_data"
    }
   ],
   "source": [
    "list_cities.extend?"
   ]
  },
  {
   "cell_type": "code",
   "execution_count": 9,
   "id": "96c80278-ee37-47c2-9b37-e6287780df45",
   "metadata": {},
   "outputs": [
    {
     "data": {
      "text/plain": [
       "['Toulouse',\n",
       " '東京',\n",
       " 'Pau',\n",
       " 'Tournefeuille',\n",
       " 'Blagnac',\n",
       " 'Montpellier',\n",
       " 'Paris',\n",
       " 'Bordeaux',\n",
       " 'Lyon',\n",
       " 'Lille']"
      ]
     },
     "execution_count": 9,
     "metadata": {},
     "output_type": "execute_result"
    }
   ],
   "source": [
    "list_cities.append(\"Montpellier\")\n",
    "list_cities.extend([\"Paris\", \"Bordeaux\"])\n",
    "list_cities.extend((\"Lyon\", \"Lille\"))\n",
    "list_cities"
   ]
  }
 ],
 "metadata": {
  "kernelspec": {
   "display_name": "k312",
   "language": "python",
   "name": "k312"
  },
  "language_info": {
   "codemirror_mode": {
    "name": "ipython",
    "version": 3
   },
   "file_extension": ".py",
   "mimetype": "text/x-python",
   "name": "python",
   "nbconvert_exporter": "python",
   "pygments_lexer": "ipython3",
   "version": "3.12.1"
  }
 },
 "nbformat": 4,
 "nbformat_minor": 5
}
