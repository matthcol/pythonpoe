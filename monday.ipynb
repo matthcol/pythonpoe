{
 "cells": [
  {
   "cell_type": "markdown",
   "id": "2d80b826-a03d-42b8-9192-5a59d653b299",
   "metadata": {},
   "source": [
    "# Recap Python"
   ]
  },
  {
   "cell_type": "code",
   "execution_count": 24,
   "id": "b5badf7b-24df-462e-b736-a20c56295431",
   "metadata": {},
   "outputs": [],
   "source": [
    "import re"
   ]
  },
  {
   "cell_type": "code",
   "execution_count": 1,
   "id": "f505e033-efc9-4d56-8594-70f326384abb",
   "metadata": {},
   "outputs": [],
   "source": [
    "list_cities = [\n",
    "    \"Toulouse\",\n",
    "    \"東京\",\n",
    "    \"Pau\",\n",
    "    \"Tournefeuille\",\n",
    "    \"Blagnac\",\n",
    "]\n",
    "tuple_city = \"Toulouse\", \"31000\", 477000\n",
    "dict_city = {\n",
    "    \"name\": \"Toulouse\",\n",
    "    \"zipcode\": \"31000\", \n",
    "    \"population\": 477000,\n",
    "}    "
   ]
  },
  {
   "cell_type": "code",
   "execution_count": 2,
   "id": "a735d0d2-2f12-4cae-8142-a7a72c8ece27",
   "metadata": {},
   "outputs": [
    {
     "name": "stdout",
     "output_type": "stream",
     "text": [
      "['Toulouse', '東京', 'Pau', 'Tournefeuille', 'Blagnac']\n",
      "\t- length: 5\n",
      "\n",
      "('Toulouse', '31000', 477000)\n",
      "\t- length: 3\n",
      "\n",
      "{'name': 'Toulouse', 'zipcode': '31000', 'population': 477000}\n",
      "\t- length: 3\n",
      "\n"
     ]
    }
   ],
   "source": [
    "for o in list_cities, tuple_city, dict_city:\n",
    "    print(o)\n",
    "    print(\"\\t- length:\", len(o))\n",
    "    print()"
   ]
  },
  {
   "cell_type": "code",
   "execution_count": 3,
   "id": "cfd092c6-aaee-44c5-9eca-b0ba53b46a0d",
   "metadata": {},
   "outputs": [
    {
     "data": {
      "text/plain": [
       "'Toulouse'"
      ]
     },
     "execution_count": 3,
     "metadata": {},
     "output_type": "execute_result"
    }
   ],
   "source": [
    "list_cities[0]"
   ]
  },
  {
   "cell_type": "code",
   "execution_count": 4,
   "id": "5997ab79-3a81-4c2c-9519-817d6cd4ceb0",
   "metadata": {},
   "outputs": [
    {
     "data": {
      "text/plain": [
       "'Blagnac'"
      ]
     },
     "execution_count": 4,
     "metadata": {},
     "output_type": "execute_result"
    }
   ],
   "source": [
    "list_cities[-1]"
   ]
  },
  {
   "cell_type": "code",
   "execution_count": 5,
   "id": "c5ddccad-e334-4f6b-9f66-57771e0fa264",
   "metadata": {},
   "outputs": [
    {
     "data": {
      "text/plain": [
       "'Toulouse'"
      ]
     },
     "execution_count": 5,
     "metadata": {},
     "output_type": "execute_result"
    }
   ],
   "source": [
    "tuple_city[0]"
   ]
  },
  {
   "cell_type": "code",
   "execution_count": 6,
   "id": "541b422a-1ebb-4231-8b5e-672e54ccedd7",
   "metadata": {},
   "outputs": [],
   "source": [
    "# TypeError: 'tuple' object does not support item assignment\n",
    "# tuple_city[2] += 1"
   ]
  },
  {
   "cell_type": "code",
   "execution_count": 7,
   "id": "bda42137-1835-4408-ada0-2791592b9df8",
   "metadata": {},
   "outputs": [
    {
     "data": {
      "text/plain": [
       "\u001b[1;31mSignature:\u001b[0m \u001b[0mlist_cities\u001b[0m\u001b[1;33m.\u001b[0m\u001b[0mappend\u001b[0m\u001b[1;33m(\u001b[0m\u001b[0mobject\u001b[0m\u001b[1;33m,\u001b[0m \u001b[1;33m/\u001b[0m\u001b[1;33m)\u001b[0m\u001b[1;33m\u001b[0m\u001b[1;33m\u001b[0m\u001b[0m\n",
       "\u001b[1;31mDocstring:\u001b[0m Append object to the end of the list.\n",
       "\u001b[1;31mType:\u001b[0m      builtin_function_or_method"
      ]
     },
     "metadata": {},
     "output_type": "display_data"
    }
   ],
   "source": [
    "list_cities.append?"
   ]
  },
  {
   "cell_type": "code",
   "execution_count": 8,
   "id": "6ee89c3c-c10e-44b5-bfea-dacff0806812",
   "metadata": {},
   "outputs": [
    {
     "data": {
      "text/plain": [
       "\u001b[1;31mSignature:\u001b[0m \u001b[0mlist_cities\u001b[0m\u001b[1;33m.\u001b[0m\u001b[0mextend\u001b[0m\u001b[1;33m(\u001b[0m\u001b[0miterable\u001b[0m\u001b[1;33m,\u001b[0m \u001b[1;33m/\u001b[0m\u001b[1;33m)\u001b[0m\u001b[1;33m\u001b[0m\u001b[1;33m\u001b[0m\u001b[0m\n",
       "\u001b[1;31mDocstring:\u001b[0m Extend list by appending elements from the iterable.\n",
       "\u001b[1;31mType:\u001b[0m      builtin_function_or_method"
      ]
     },
     "metadata": {},
     "output_type": "display_data"
    }
   ],
   "source": [
    "list_cities.extend?"
   ]
  },
  {
   "cell_type": "code",
   "execution_count": 9,
   "id": "96c80278-ee37-47c2-9b37-e6287780df45",
   "metadata": {},
   "outputs": [
    {
     "data": {
      "text/plain": [
       "['Toulouse',\n",
       " '東京',\n",
       " 'Pau',\n",
       " 'Tournefeuille',\n",
       " 'Blagnac',\n",
       " 'Montpellier',\n",
       " 'Paris',\n",
       " 'Bordeaux',\n",
       " 'Lyon',\n",
       " 'Lille']"
      ]
     },
     "execution_count": 9,
     "metadata": {},
     "output_type": "execute_result"
    }
   ],
   "source": [
    "list_cities.append(\"Montpellier\")\n",
    "list_cities.extend([\"Paris\", \"Bordeaux\"])\n",
    "list_cities.extend((\"Lyon\", \"Lille\"))\n",
    "list_cities"
   ]
  },
  {
   "cell_type": "code",
   "execution_count": 10,
   "id": "715add0c-c60a-40f7-b22a-2f5f1c9d705d",
   "metadata": {},
   "outputs": [
    {
     "name": "stdout",
     "output_type": "stream",
     "text": [
      "0 - Toulouse\n",
      "1 - 東京\n",
      "2 - Pau\n",
      "3 - Tournefeuille\n",
      "4 - Blagnac\n",
      "5 - Montpellier\n",
      "6 - Paris\n",
      "7 - Bordeaux\n",
      "8 - Lyon\n",
      "9 - Lille\n"
     ]
    }
   ],
   "source": [
    "for i, city in enumerate(list_cities):\n",
    "    print(f\"{i} - {city}\")"
   ]
  },
  {
   "cell_type": "code",
   "execution_count": 11,
   "id": "6adcafad-b4a0-441c-8a95-bee95060210a",
   "metadata": {},
   "outputs": [
    {
     "name": "stdout",
     "output_type": "stream",
     "text": [
      "1 - Toulouse\n",
      "2 - 東京\n",
      "3 - Pau\n",
      "4 - Tournefeuille\n",
      "5 - Blagnac\n",
      "6 - Montpellier\n",
      "7 - Paris\n",
      "8 - Bordeaux\n",
      "9 - Lyon\n",
      "10 - Lille\n"
     ]
    }
   ],
   "source": [
    "for i, city in enumerate(list_cities, start=1):\n",
    "    print(f\"{i} - {city}\")"
   ]
  },
  {
   "cell_type": "code",
   "execution_count": 12,
   "id": "bed82839-420d-4419-9e39-0bc0fe552d0e",
   "metadata": {},
   "outputs": [
    {
     "name": "stdout",
     "output_type": "stream",
     "text": [
      "Toulouse: 477000\n",
      "東京: 14000000\n",
      "Pau: 77000\n"
     ]
    }
   ],
   "source": [
    "list_populations = (477_000, 14_000_000, 77_000) \n",
    "for city, population in zip(list_cities, list_populations):\n",
    "    print(f\"{city}: {population}\")"
   ]
  },
  {
   "cell_type": "code",
   "execution_count": 13,
   "id": "9dc62ed8-2563-490d-a31a-a4ab39260265",
   "metadata": {},
   "outputs": [
    {
     "data": {
      "text/plain": [
       "<zip at 0x133ce13b9c0>"
      ]
     },
     "execution_count": 13,
     "metadata": {},
     "output_type": "execute_result"
    }
   ],
   "source": [
    "zip(list_cities, list_populations)"
   ]
  },
  {
   "cell_type": "code",
   "execution_count": 15,
   "id": "d0c5d8f1-2bb3-490f-a528-067044444123",
   "metadata": {},
   "outputs": [
    {
     "data": {
      "text/plain": [
       "[('Toulouse', 477000), ('東京', 14000000), ('Pau', 77000)]"
      ]
     },
     "execution_count": 15,
     "metadata": {},
     "output_type": "execute_result"
    }
   ],
   "source": [
    "list(zip(list_cities, list_populations))"
   ]
  },
  {
   "cell_type": "code",
   "execution_count": 16,
   "id": "65617ffc-d44f-44b7-997b-93e681477ec7",
   "metadata": {},
   "outputs": [
    {
     "data": {
      "text/plain": [
       "66"
      ]
     },
     "execution_count": 16,
     "metadata": {},
     "output_type": "execute_result"
    }
   ],
   "source": [
    "# number of characters to write all cities\n",
    "sum = 0\n",
    "for city in list_cities:\n",
    "    sum += len(city)\n",
    "sum"
   ]
  },
  {
   "cell_type": "code",
   "execution_count": 18,
   "id": "928a9863-ce2e-4aaf-a9e9-87894d9ecc47",
   "metadata": {},
   "outputs": [],
   "source": [
    "del sum"
   ]
  },
  {
   "cell_type": "code",
   "execution_count": 20,
   "id": "b1389de8-7e35-490e-9ddb-ab15bd6a6148",
   "metadata": {},
   "outputs": [
    {
     "data": {
      "text/plain": [
       "66"
      ]
     },
     "execution_count": 20,
     "metadata": {},
     "output_type": "execute_result"
    }
   ],
   "source": [
    "# for expression = generator\n",
    "sum(len(city) for city in list_cities)"
   ]
  },
  {
   "cell_type": "code",
   "execution_count": 36,
   "id": "833299e0-4f1c-4ff3-9c13-b09c952f7853",
   "metadata": {},
   "outputs": [
    {
     "data": {
      "text/plain": [
       "(True, False, True)"
      ]
     },
     "execution_count": 36,
     "metadata": {},
     "output_type": "execute_result"
    }
   ],
   "source": [
    "city = \"Toulouse\"\n",
    "(\n",
    "    city.startswith(\"T\"),\n",
    "    city.endswith(\"ma\"),\n",
    "    \"ou\" in city\n",
    ")"
   ]
  },
  {
   "cell_type": "code",
   "execution_count": 25,
   "id": "c3c7c484-9ab7-408e-8656-fe7e9d05b042",
   "metadata": {},
   "outputs": [
    {
     "data": {
      "text/plain": [
       "\u001b[1;31mSignature:\u001b[0m \u001b[0mre\u001b[0m\u001b[1;33m.\u001b[0m\u001b[0mmatch\u001b[0m\u001b[1;33m(\u001b[0m\u001b[0mpattern\u001b[0m\u001b[1;33m,\u001b[0m \u001b[0mstring\u001b[0m\u001b[1;33m,\u001b[0m \u001b[0mflags\u001b[0m\u001b[1;33m=\u001b[0m\u001b[1;36m0\u001b[0m\u001b[1;33m)\u001b[0m\u001b[1;33m\u001b[0m\u001b[1;33m\u001b[0m\u001b[0m\n",
       "\u001b[1;31mDocstring:\u001b[0m\n",
       "Try to apply the pattern at the start of the string, returning\n",
       "a Match object, or None if no match was found.\n",
       "\u001b[1;31mFile:\u001b[0m      c:\\users\\matthias\\anaconda3\\envs\\env312\\lib\\re\\__init__.py\n",
       "\u001b[1;31mType:\u001b[0m      function"
      ]
     },
     "metadata": {},
     "output_type": "display_data"
    }
   ],
   "source": [
    "re.match?"
   ]
  },
  {
   "cell_type": "code",
   "execution_count": 26,
   "id": "967c25f8-8cfb-483c-b16f-06099decff49",
   "metadata": {},
   "outputs": [
    {
     "data": {
      "text/plain": [
       "\u001b[1;31mSignature:\u001b[0m \u001b[0mre\u001b[0m\u001b[1;33m.\u001b[0m\u001b[0mfullmatch\u001b[0m\u001b[1;33m(\u001b[0m\u001b[0mpattern\u001b[0m\u001b[1;33m,\u001b[0m \u001b[0mstring\u001b[0m\u001b[1;33m,\u001b[0m \u001b[0mflags\u001b[0m\u001b[1;33m=\u001b[0m\u001b[1;36m0\u001b[0m\u001b[1;33m)\u001b[0m\u001b[1;33m\u001b[0m\u001b[1;33m\u001b[0m\u001b[0m\n",
       "\u001b[1;31mDocstring:\u001b[0m\n",
       "Try to apply the pattern to all of the string, returning\n",
       "a Match object, or None if no match was found.\n",
       "\u001b[1;31mFile:\u001b[0m      c:\\users\\matthias\\anaconda3\\envs\\env312\\lib\\re\\__init__.py\n",
       "\u001b[1;31mType:\u001b[0m      function"
      ]
     },
     "metadata": {},
     "output_type": "display_data"
    }
   ],
   "source": [
    "re.fullmatch?"
   ]
  },
  {
   "cell_type": "code",
   "execution_count": 27,
   "id": "ef929384-e5a1-468d-a76b-db7e03b1a353",
   "metadata": {},
   "outputs": [
    {
     "data": {
      "text/plain": [
       "<re.Match object; span=(0, 8), match='Toulouse'>"
      ]
     },
     "execution_count": 27,
     "metadata": {},
     "output_type": "execute_result"
    }
   ],
   "source": [
    "re.match(r\"T.*e\", city)"
   ]
  },
  {
   "cell_type": "code",
   "execution_count": 29,
   "id": "3f36b0f3-1975-4d7e-998a-28bc44398102",
   "metadata": {},
   "outputs": [
    {
     "data": {
      "text/plain": [
       "True"
      ]
     },
     "execution_count": 29,
     "metadata": {},
     "output_type": "execute_result"
    }
   ],
   "source": [
    "re.fullmatch(r\"[a-z]+\", city) is None"
   ]
  },
  {
   "cell_type": "code",
   "execution_count": 30,
   "id": "0ce6b407-5b75-45f3-9467-f828bfd5253d",
   "metadata": {},
   "outputs": [
    {
     "data": {
      "text/plain": [
       "False"
      ]
     },
     "execution_count": 30,
     "metadata": {},
     "output_type": "execute_result"
    }
   ],
   "source": [
    "bool(re.fullmatch(r\"[a-z]+\", city))"
   ]
  },
  {
   "cell_type": "code",
   "execution_count": 31,
   "id": "469414ad-2736-4a84-9e4f-c8756c74c816",
   "metadata": {},
   "outputs": [
    {
     "name": "stdout",
     "output_type": "stream",
     "text": [
      "no match :(\n"
     ]
    }
   ],
   "source": [
    "if re.fullmatch(r\"[a-z]+\", city):\n",
    "    print(\"match !\")\n",
    "else:\n",
    "    print(\"no match :(\")"
   ]
  },
  {
   "cell_type": "code",
   "execution_count": 33,
   "id": "78271a40-0502-4199-847f-aedfa41c87cd",
   "metadata": {},
   "outputs": [
    {
     "data": {
      "text/plain": [
       "<re.Match object; span=(0, 8), match='Toulouse'>"
      ]
     },
     "execution_count": 33,
     "metadata": {},
     "output_type": "execute_result"
    }
   ],
   "source": [
    "re.fullmatch(r\"[a-z]+\", city, flags=re.I)"
   ]
  },
  {
   "cell_type": "code",
   "execution_count": 34,
   "id": "c98e0a44-e8e3-49fe-a1c8-cbc0b7afd3de",
   "metadata": {},
   "outputs": [
    {
     "data": {
      "text/plain": [
       "64"
      ]
     },
     "execution_count": 34,
     "metadata": {},
     "output_type": "execute_result"
    }
   ],
   "source": [
    "sum(len(city) for city in list_cities if re.fullmatch(r\"[a-z]+\", city, flags=re.I))"
   ]
  }
 ],
 "metadata": {
  "kernelspec": {
   "display_name": "k312",
   "language": "python",
   "name": "k312"
  },
  "language_info": {
   "codemirror_mode": {
    "name": "ipython",
    "version": 3
   },
   "file_extension": ".py",
   "mimetype": "text/x-python",
   "name": "python",
   "nbconvert_exporter": "python",
   "pygments_lexer": "ipython3",
   "version": "3.12.1"
  }
 },
 "nbformat": 4,
 "nbformat_minor": 5
}
